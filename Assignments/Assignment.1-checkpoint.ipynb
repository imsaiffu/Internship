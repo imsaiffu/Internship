{
 "cells": [
  {
   "cell_type": "code",
   "execution_count": 2,
   "id": "a421aee3",
   "metadata": {},
   "outputs": [],
   "source": [
    "import re\n",
    "import pandas as pd\n",
    "import numpy as np"
   ]
  },
  {
   "cell_type": "markdown",
   "id": "7327be46",
   "metadata": {},
   "source": [
    "#### Question 1- Write a Python program to replace all occurrences of a space, comma, or dot with a colon.\n",
    "- Sample Text- 'Python Exercises, PHP exercises.'\n",
    "- Expected Output: Python:Exercises::PHP:exercises:"
   ]
  },
  {
   "cell_type": "code",
   "execution_count": 17,
   "id": "1a186c10",
   "metadata": {},
   "outputs": [
    {
     "name": "stdout",
     "output_type": "stream",
     "text": [
      "Expected Output: Python:Exercises::PHP:exercises:\n"
     ]
    }
   ],
   "source": [
    "pattern = r'[ ,.]'\n",
    "changed_text = re.sub(pattern, ':', sample_text)\n",
    "\n",
    "sample_text = 'Python Exercises, PHP exercises.'\n",
    "\n",
    "print(\"Expected Output:\", changed_text)\n"
   ]
  },
  {
   "cell_type": "markdown",
   "id": "4c8908b3",
   "metadata": {},
   "source": [
    "#### Question 2-  Create a dataframe using the dictionary below and remove everything (commas (,), !, XXXX, ;, etc.) from the columns except words.\n",
    "Dictionary- {'SUMMARY' : ['hello, world!', 'XXXXX test', '123four, five:; six...']}\n",
    "Expected output-\n",
    "0      hello world\n",
    "1             test\n",
    "2    four five six\n"
   ]
  },
  {
   "cell_type": "code",
   "execution_count": 8,
   "id": "9a71c272",
   "metadata": {},
   "outputs": [
    {
     "data": {
      "text/html": [
       "<div>\n",
       "<style scoped>\n",
       "    .dataframe tbody tr th:only-of-type {\n",
       "        vertical-align: middle;\n",
       "    }\n",
       "\n",
       "    .dataframe tbody tr th {\n",
       "        vertical-align: top;\n",
       "    }\n",
       "\n",
       "    .dataframe thead th {\n",
       "        text-align: right;\n",
       "    }\n",
       "</style>\n",
       "<table border=\"1\" class=\"dataframe\">\n",
       "  <thead>\n",
       "    <tr style=\"text-align: right;\">\n",
       "      <th></th>\n",
       "      <th>SUMMARY</th>\n",
       "    </tr>\n",
       "  </thead>\n",
       "  <tbody>\n",
       "    <tr>\n",
       "      <th>0</th>\n",
       "      <td>hello, world!</td>\n",
       "    </tr>\n",
       "    <tr>\n",
       "      <th>1</th>\n",
       "      <td>XXXXX test</td>\n",
       "    </tr>\n",
       "    <tr>\n",
       "      <th>2</th>\n",
       "      <td>123four, five:; six...</td>\n",
       "    </tr>\n",
       "  </tbody>\n",
       "</table>\n",
       "</div>"
      ],
      "text/plain": [
       "                  SUMMARY\n",
       "0           hello, world!\n",
       "1              XXXXX test\n",
       "2  123four, five:; six..."
      ]
     },
     "execution_count": 8,
     "metadata": {},
     "output_type": "execute_result"
    }
   ],
   "source": [
    "data = {'SUMMARY' : ['hello, world!', 'XXXXX test', '123four, five:; six...']}\n",
    "df = pd.DataFrame(data)\n",
    "df"
   ]
  },
  {
   "cell_type": "code",
   "execution_count": 10,
   "id": "9048fa47",
   "metadata": {},
   "outputs": [
    {
     "name": "stdout",
     "output_type": "stream",
     "text": [
      "         SUMMARY\n",
      "0    hello world\n",
      "1           test\n",
      "2  four five six\n"
     ]
    }
   ],
   "source": [
    "def cleaning_text(text):\n",
    "    cleaned_text = re.sub(r'[^A-Za-z\\s]+|XXXXX', '', text)\n",
    "    return cleaned_text.strip()\n",
    "\n",
    "df['SUMMARY'] = df['SUMMARY'].apply(cleaning_text)\n",
    "\n",
    "# Print the cleaned DataFrame\n",
    "print(df)"
   ]
  },
  {
   "cell_type": "markdown",
   "id": "b9e07f0c",
   "metadata": {},
   "source": [
    "#### Question 3- Create a function in python to find all words that are at least 4 characters long in a string. The use of the re.compile() method is mandatory."
   ]
  },
  {
   "cell_type": "code",
   "execution_count": 117,
   "id": "f32308e7",
   "metadata": {},
   "outputs": [
    {
     "name": "stdout",
     "output_type": "stream",
     "text": [
      "Long words found: ['15th', '1947', 'that', 'from', 'were', 'over']\n"
     ]
    }
   ],
   "source": [
    "sample_string = \"On August 15th 1947 that India was declared independent from British colonialism, and the reins of control were handed over to the leaders of the Country\"\n",
    "pattern = re.compile(r'\\b\\w{4}\\b')\n",
    "long_words = pattern.findall(sample_string)\n",
    "print(\"Long words found:\", long_words)"
   ]
  },
  {
   "cell_type": "markdown",
   "id": "537142be",
   "metadata": {},
   "source": [
    "#### Question 4- Create a function in python to find all three, four, and five character words in a string. The use of the re.compile() method is mandatory."
   ]
  },
  {
   "cell_type": "code",
   "execution_count": 118,
   "id": "65d1cf0d",
   "metadata": {},
   "outputs": [
    {
     "name": "stdout",
     "output_type": "stream",
     "text": [
      "Long words found: ['15th', '1947', 'that', 'India', 'was', 'from', 'and', 'the', 'reins', 'were', 'over', 'the', 'the']\n"
     ]
    }
   ],
   "source": [
    "sample_string = \"On August 15th 1947 that India was declared independent from British colonialism, and the reins of control were handed over to the leaders of the Country\"\n",
    "pattern = re.compile(r'\\b\\w{3,5}\\b')\n",
    "long_words = pattern.findall(sample_string)\n",
    "print(\"Long words found:\", long_words)"
   ]
  },
  {
   "cell_type": "markdown",
   "id": "437d8932",
   "metadata": {},
   "source": [
    "#### Question 5- Create a function in Python to remove the parenthesis in a list of strings. The use of the re.compile() method is mandatory.\n",
    "Sample Text: [\"example (.com)\", \"hr@fliprobo (.com)\", \"github (.com)\", \"Hello (Data Science World)\", \"Data (Scientist)\"]\n",
    "\n",
    "- Expected Output:\n",
    "- example.com\n",
    "- hr@fliprobo.com\n",
    "- github.com\n",
    "- Hello Data Science World\n",
    "- Data Scientist"
   ]
  },
  {
   "cell_type": "code",
   "execution_count": 121,
   "id": "fb5a8452",
   "metadata": {},
   "outputs": [
    {
     "name": "stdout",
     "output_type": "stream",
     "text": [
      "Expected Output:\n",
      "example.com\n",
      "hr@fliprobo.com\n",
      "github.com\n",
      "Hello Data Science World\n",
      "Data Scientist\n"
     ]
    }
   ],
   "source": [
    "def remove_circl(strings_list):\n",
    "    pattern = re.compile(r'\\(([^)]*)\\)')\n",
    "    cleaned_strings = [pattern.sub(r'\\1', string) for string in strings_list]\n",
    "    \n",
    "    return cleaned_strings\n",
    "\n",
    "sample_text = [\"example(.com)\", \"hr@fliprobo(.com)\", \"github(.com)\", \"Hello (Data Science World)\", \"Data (Scientist)\"]\n",
    "cleaned_text = remove_circl(sample_text)\n",
    "print(\"Expected Output:\")\n",
    "for text in cleaned_text:\n",
    "    print(text)"
   ]
  },
  {
   "cell_type": "markdown",
   "id": "0e4f519d",
   "metadata": {},
   "source": [
    "#### Question 6- Write a python program to remove the parenthesis area from the text stored in the text file using Regular Expression.\n",
    "Sample Text: [\"example (.com)\", \"hr@fliprobo (.com)\", \"github (.com)\", \"Hello (Data Science World)\", \"Data (Scientist)\"]\n",
    "- Expected Output: [\"example\", \"hr@fliprobo\", \"github\", \"Hello\", \"Data\"]\n",
    "- Note- Store given sample text in the text file and then to remove the parenthesis area from the text.\n"
   ]
  },
  {
   "cell_type": "code",
   "execution_count": 7,
   "id": "f7c90e3f",
   "metadata": {},
   "outputs": [
    {
     "name": "stdout",
     "output_type": "stream",
     "text": [
      "Expected Output: : [\"example\", \"hr@fliprobo\", \"github\", \"Hello\", \"Data\"]\n"
     ]
    }
   ],
   "source": [
    "# Read the text from the file\n",
    "with open('sample.txt', 'r') as file:\n",
    "    text = file.read()\n",
    "\n",
    "pattern = re.compile(r'\\s*\\([^)]*\\)')\n",
    "\n",
    "cleaned_text = pattern.sub('', text)\n",
    "print('Expected Output:',cleaned_text)"
   ]
  },
  {
   "cell_type": "markdown",
   "id": "838b5d0b",
   "metadata": {},
   "source": [
    "#### Question 7- Write a regular expression in Python to split a string into uppercase letters.\n",
    "- Sample text: “ImportanceOfRegularExpressionsInPython”\n",
    "- Expected Output: [‘Importance’, ‘Of’, ‘Regular’, ‘Expression’, ‘In’, ‘Python’]\n"
   ]
  },
  {
   "cell_type": "code",
   "execution_count": 9,
   "id": "972febaa",
   "metadata": {},
   "outputs": [
    {
     "name": "stdout",
     "output_type": "stream",
     "text": [
      "['Importance', 'Of', 'Regular', 'Expressions', 'In', 'Python']\n"
     ]
    }
   ],
   "source": [
    "# Sample text\n",
    "sample_text = \"ImportanceOfRegularExpressionsInPython\"\n",
    "pattern = r'[A-Z][^A-Z]*'\n",
    "output = re.findall(pattern, sample_text)\n",
    "\n",
    "print(output)"
   ]
  },
  {
   "cell_type": "markdown",
   "id": "516f4cfe",
   "metadata": {},
   "source": [
    "#### Question 8- Create a function in python to insert spaces between words starting with numbers.\n",
    "- Sample Text: “RegularExpression1IsAn2ImportantTopic3InPython\"\n",
    "- Expected Output: RegularExpression 1IsAn 2ImportantTopic 3InPython\n"
   ]
  },
  {
   "cell_type": "code",
   "execution_count": 18,
   "id": "26812c6d",
   "metadata": {},
   "outputs": [
    {
     "name": "stdout",
     "output_type": "stream",
     "text": [
      "Expected Output: RegularExpression1 IsAn2 ImportantTopic3 InPython\n"
     ]
    }
   ],
   "source": [
    "sample_text = \"RegularExpression1IsAn2ImportantTopic3InPython\"\n",
    "pattern = r'(?<=\\d)(?=[A-Za-z])'\n",
    "changed_text = re.sub(pattern, ' ', sample_text) \n",
    "\n",
    "print(\"Expected Output:\", changed_text)\n"
   ]
  },
  {
   "cell_type": "markdown",
   "id": "88f18bad",
   "metadata": {},
   "source": [
    "#### Question 9- Create a function in python to insert spaces between words starting with capital letters or with numbers.\n",
    "- Sample Text: “RegularExpression1IsAn2ImportantTopic3InPython\"\n",
    "- Expected Output:  RegularExpression 1 IsAn 2 ImportantTopic 3 InPython\n"
   ]
  },
  {
   "cell_type": "code",
   "execution_count": 19,
   "id": "2b4890b6",
   "metadata": {},
   "outputs": [
    {
     "name": "stdout",
     "output_type": "stream",
     "text": [
      "Expected Output: RegularExpression 1 IsAn 2 ImportantTopic 3 InPython\n"
     ]
    }
   ],
   "source": [
    "sample_text = \"RegularExpression1IsAn2ImportantTopic3InPython\"\n",
    "pattern = r'(?<=[A-Z0-9])(?=[A-Z])|(?<=[A-Za-z])(?=\\d)'\n",
    "changed_text = re.sub(pattern, ' ', sample_text) \n",
    "\n",
    "print(\"Expected Output:\", changed_text)\n"
   ]
  },
  {
   "cell_type": "markdown",
   "id": "4c0ea1f5",
   "metadata": {},
   "source": [
    "#### Question 10- Use the github link below to read the data and create a dataframe. After creating the dataframe extract the first 6 letters of each country and store in the dataframe under a new column called first_five_letters.\n",
    "- Github Link-  https://raw.githubusercontent.com/dsrscientist/DSData/master/happiness_score_dataset.csv\n"
   ]
  },
  {
   "cell_type": "code",
   "execution_count": 20,
   "id": "fd4dd9d2",
   "metadata": {},
   "outputs": [
    {
     "data": {
      "text/html": [
       "<div>\n",
       "<style scoped>\n",
       "    .dataframe tbody tr th:only-of-type {\n",
       "        vertical-align: middle;\n",
       "    }\n",
       "\n",
       "    .dataframe tbody tr th {\n",
       "        vertical-align: top;\n",
       "    }\n",
       "\n",
       "    .dataframe thead th {\n",
       "        text-align: right;\n",
       "    }\n",
       "</style>\n",
       "<table border=\"1\" class=\"dataframe\">\n",
       "  <thead>\n",
       "    <tr style=\"text-align: right;\">\n",
       "      <th></th>\n",
       "      <th>Country</th>\n",
       "      <th>Region</th>\n",
       "      <th>Happiness Rank</th>\n",
       "      <th>Happiness Score</th>\n",
       "      <th>Standard Error</th>\n",
       "      <th>Economy (GDP per Capita)</th>\n",
       "      <th>Family</th>\n",
       "      <th>Health (Life Expectancy)</th>\n",
       "      <th>Freedom</th>\n",
       "      <th>Trust (Government Corruption)</th>\n",
       "      <th>Generosity</th>\n",
       "      <th>Dystopia Residual</th>\n",
       "      <th>first_five_letters</th>\n",
       "    </tr>\n",
       "  </thead>\n",
       "  <tbody>\n",
       "    <tr>\n",
       "      <th>0</th>\n",
       "      <td>Switzerland</td>\n",
       "      <td>Western Europe</td>\n",
       "      <td>1</td>\n",
       "      <td>7.587</td>\n",
       "      <td>0.03411</td>\n",
       "      <td>1.39651</td>\n",
       "      <td>1.34951</td>\n",
       "      <td>0.94143</td>\n",
       "      <td>0.66557</td>\n",
       "      <td>0.41978</td>\n",
       "      <td>0.29678</td>\n",
       "      <td>2.51738</td>\n",
       "      <td>Switze</td>\n",
       "    </tr>\n",
       "    <tr>\n",
       "      <th>1</th>\n",
       "      <td>Iceland</td>\n",
       "      <td>Western Europe</td>\n",
       "      <td>2</td>\n",
       "      <td>7.561</td>\n",
       "      <td>0.04884</td>\n",
       "      <td>1.30232</td>\n",
       "      <td>1.40223</td>\n",
       "      <td>0.94784</td>\n",
       "      <td>0.62877</td>\n",
       "      <td>0.14145</td>\n",
       "      <td>0.43630</td>\n",
       "      <td>2.70201</td>\n",
       "      <td>Icelan</td>\n",
       "    </tr>\n",
       "    <tr>\n",
       "      <th>2</th>\n",
       "      <td>Denmark</td>\n",
       "      <td>Western Europe</td>\n",
       "      <td>3</td>\n",
       "      <td>7.527</td>\n",
       "      <td>0.03328</td>\n",
       "      <td>1.32548</td>\n",
       "      <td>1.36058</td>\n",
       "      <td>0.87464</td>\n",
       "      <td>0.64938</td>\n",
       "      <td>0.48357</td>\n",
       "      <td>0.34139</td>\n",
       "      <td>2.49204</td>\n",
       "      <td>Denmar</td>\n",
       "    </tr>\n",
       "    <tr>\n",
       "      <th>3</th>\n",
       "      <td>Norway</td>\n",
       "      <td>Western Europe</td>\n",
       "      <td>4</td>\n",
       "      <td>7.522</td>\n",
       "      <td>0.03880</td>\n",
       "      <td>1.45900</td>\n",
       "      <td>1.33095</td>\n",
       "      <td>0.88521</td>\n",
       "      <td>0.66973</td>\n",
       "      <td>0.36503</td>\n",
       "      <td>0.34699</td>\n",
       "      <td>2.46531</td>\n",
       "      <td>Norway</td>\n",
       "    </tr>\n",
       "    <tr>\n",
       "      <th>4</th>\n",
       "      <td>Canada</td>\n",
       "      <td>North America</td>\n",
       "      <td>5</td>\n",
       "      <td>7.427</td>\n",
       "      <td>0.03553</td>\n",
       "      <td>1.32629</td>\n",
       "      <td>1.32261</td>\n",
       "      <td>0.90563</td>\n",
       "      <td>0.63297</td>\n",
       "      <td>0.32957</td>\n",
       "      <td>0.45811</td>\n",
       "      <td>2.45176</td>\n",
       "      <td>Canada</td>\n",
       "    </tr>\n",
       "  </tbody>\n",
       "</table>\n",
       "</div>"
      ],
      "text/plain": [
       "       Country          Region  Happiness Rank  Happiness Score  \\\n",
       "0  Switzerland  Western Europe               1            7.587   \n",
       "1      Iceland  Western Europe               2            7.561   \n",
       "2      Denmark  Western Europe               3            7.527   \n",
       "3       Norway  Western Europe               4            7.522   \n",
       "4       Canada   North America               5            7.427   \n",
       "\n",
       "   Standard Error  Economy (GDP per Capita)   Family  \\\n",
       "0         0.03411                   1.39651  1.34951   \n",
       "1         0.04884                   1.30232  1.40223   \n",
       "2         0.03328                   1.32548  1.36058   \n",
       "3         0.03880                   1.45900  1.33095   \n",
       "4         0.03553                   1.32629  1.32261   \n",
       "\n",
       "   Health (Life Expectancy)  Freedom  Trust (Government Corruption)  \\\n",
       "0                   0.94143  0.66557                        0.41978   \n",
       "1                   0.94784  0.62877                        0.14145   \n",
       "2                   0.87464  0.64938                        0.48357   \n",
       "3                   0.88521  0.66973                        0.36503   \n",
       "4                   0.90563  0.63297                        0.32957   \n",
       "\n",
       "   Generosity  Dystopia Residual first_five_letters  \n",
       "0     0.29678            2.51738             Switze  \n",
       "1     0.43630            2.70201             Icelan  \n",
       "2     0.34139            2.49204             Denmar  \n",
       "3     0.34699            2.46531             Norway  \n",
       "4     0.45811            2.45176             Canada  "
      ]
     },
     "execution_count": 20,
     "metadata": {},
     "output_type": "execute_result"
    }
   ],
   "source": [
    "df = pd.read_csv('https://raw.githubusercontent.com/dsrscientist/DSData/master/happiness_score_dataset.csv')\n",
    "df['first_five_letters'] = df['Country'].str[:6]\n",
    "df.head()"
   ]
  },
  {
   "cell_type": "markdown",
   "id": "e193a791",
   "metadata": {},
   "source": [
    "#### Question 11- Write a Python program to match a string that contains only upper and lowercase letters, numbers, and underscores."
   ]
  },
  {
   "cell_type": "code",
   "execution_count": 85,
   "id": "e6e3c9e1",
   "metadata": {},
   "outputs": [
    {
     "name": "stdout",
     "output_type": "stream",
     "text": [
      "helloworld: Contains only upper and lowercase letters, numbers, and underscores\n",
      "XXXXX test: Contains other characters besides upper and lowercase letters, numbers, and underscores\n",
      "123four: Contains only upper and lowercase letters, numbers, and underscores\n",
      "five six: Contains other characters besides upper and lowercase letters, numbers, and underscores\n"
     ]
    }
   ],
   "source": [
    "def check_string(input_string):\n",
    "    pattern = r'^[a-zA-Z0-9_]+$'\n",
    "    if re.match(pattern, input_string):\n",
    "        return True\n",
    "    else:\n",
    "        return False\n",
    "\n",
    "strings_to_check = ['helloworld', 'XXXXX test', '123four', 'five six']\n",
    "for string in strings_to_check:\n",
    "    if check_string(string):\n",
    "        print(f\"{string}: Contains only upper and lowercase letters, numbers, and underscores\")\n",
    "    else:\n",
    "        print(f\"{string}: Contains other characters besides upper and lowercase letters, numbers, and underscores\")\n"
   ]
  },
  {
   "cell_type": "markdown",
   "id": "e11adde1",
   "metadata": {},
   "source": [
    "#### Question 12- Write a Python program where a string will start with a specific number. "
   ]
  },
  {
   "cell_type": "code",
   "execution_count": 22,
   "id": "733a4a91",
   "metadata": {},
   "outputs": [
    {
     "name": "stdout",
     "output_type": "stream",
     "text": [
      "565virat: Starts with the number ['565', '153']\n",
      "801sachin: Does not start with the number ['565', '153']\n",
      "153siraj: Starts with the number ['565', '153']\n",
      "dhoni232: Does not start with the number ['565', '153']\n",
      "rohit456: Does not start with the number ['565', '153']\n"
     ]
    }
   ],
   "source": [
    "def check_start_with_number(input_string, start_number):\n",
    "    pattern = re.compile(f'^{start_number}')\n",
    "    if re.match(pattern, input_string):\n",
    "        return True\n",
    "    else:\n",
    "        return False\n",
    "\n",
    "# Test the function with some strings\n",
    "strings_to_check = [\"565virat\", \"801sachin\", \"153siraj\", \"dhoni232\", \"rohit456\"]\n",
    "start_number = [\"565\", \"153\"]\n",
    "for string in strings_to_check:\n",
    "    if check_start_with_number(string, start_number):\n",
    "        print(f\"{string}: Starts with the number {start_number}\")\n",
    "    else:\n",
    "        print(f\"{string}: Does not start with the number {start_number}\")\n"
   ]
  },
  {
   "cell_type": "markdown",
   "id": "7f242f69",
   "metadata": {},
   "source": [
    "#### Question 13- Write a Python program to remove leading zeros from an IP address"
   ]
  },
  {
   "cell_type": "code",
   "execution_count": 81,
   "id": "f10b53b5",
   "metadata": {},
   "outputs": [
    {
     "name": "stdout",
     "output_type": "stream",
     "text": [
      "192.8.1.2\n"
     ]
    }
   ],
   "source": [
    "pattarn = r\"[00]\"     # r\"[]\" use or alphabet list\n",
    "ip_add = \"192.008.001.002\"\n",
    "\n",
    "replaced_ip_add = re.sub(pattarn, \"\", ip_add)\n",
    "print(replaced_text)"
   ]
  },
  {
   "cell_type": "markdown",
   "id": "8a9b3c4a",
   "metadata": {},
   "source": [
    "#### Question 14- Write a regular expression in python to match a date string in the form of Month name followed by day number and year stored in a text file.\n",
    "- Sample text :  ' On August 15th 1947 that India was declared independent from British colonialism, and the reins of control were handed over to the leaders of the Country’.\n",
    "- Expected Output- August 15th 1947\n",
    "- Note- Store given sample text in the text file and then extract the date string asked format.\n"
   ]
  },
  {
   "cell_type": "code",
   "execution_count": 35,
   "id": "633d7d1b",
   "metadata": {},
   "outputs": [
    {
     "name": "stdout",
     "output_type": "stream",
     "text": [
      "Extracted Date(s): ['August 15th 1947']\n"
     ]
    }
   ],
   "source": [
    "with open(\"sample2.txt\", 'r') as file:\n",
    "    text = file.read()\n",
    "pattern = r'([A-Z][a-z]+ \\d{1,2}(?:st|nd|rd|th) \\d{4})'\n",
    "dates = re.findall(pattern, text)\n",
    "\n",
    "print(\"Extracted Date(s):\", dates)\n"
   ]
  },
  {
   "cell_type": "markdown",
   "id": "28acc6c0",
   "metadata": {},
   "source": [
    "#### Question 15- Write a Python program to search some literals strings in a string. \n",
    "- Sample text : 'The quick brown fox jumps over the lazy dog.'\n",
    "- Searched words : 'fox', 'dog', 'horse'\n"
   ]
  },
  {
   "cell_type": "code",
   "execution_count": 76,
   "id": "7486bef7",
   "metadata": {},
   "outputs": [
    {
     "name": "stdout",
     "output_type": "stream",
     "text": [
      "Words Found: ['fox', 'dog']\n"
     ]
    }
   ],
   "source": [
    "def search_literals(text, words):\n",
    "    found_words = []\n",
    "    for word in words:\n",
    "        if word in text:\n",
    "            found_words.append(word)\n",
    "    return found_words\n",
    "\n",
    "sample_text = 'The quick brown fox jumps over the lazy dog.'\n",
    "searched_words = ['fox', 'dog', 'horse']\n",
    "\n",
    "got_words = search_literals(sample_text, searched_words)\n",
    "\n",
    "# Print the words found in the text\n",
    "print(\"Words Found:\", got_words)"
   ]
  },
  {
   "cell_type": "markdown",
   "id": "b551f02f",
   "metadata": {},
   "source": [
    "#### Question 16- Write a Python program to search a literals string in a string and also find the location within the original string where the pattern occurs\n",
    "- Sample text : 'The quick brown fox jumps over the lazy dog.'\n",
    "- Searched words : 'fox'\n"
   ]
  },
  {
   "cell_type": "code",
   "execution_count": 65,
   "id": "3469531e",
   "metadata": {},
   "outputs": [
    {
     "name": "stdout",
     "output_type": "stream",
     "text": [
      "[('fox', 16)]\n"
     ]
    }
   ],
   "source": [
    "sample_text = 'The quick brown fox jumps over the lazy dog.'\n",
    "word_with_position = [(m.group(), m.start()) for m in re.finditer(\"fox\", sample_text)]\n",
    "print(word_with_position)\n"
   ]
  },
  {
   "cell_type": "markdown",
   "id": "4922f477",
   "metadata": {},
   "source": [
    "#### Question 17- Write a Python program to find the substrings within a string.\n",
    "- Sample text : 'Python exercises, PHP exercises, C# exercises'\n",
    "- Pattern : 'exercises'.\n"
   ]
  },
  {
   "cell_type": "code",
   "execution_count": 55,
   "id": "b031b532",
   "metadata": {},
   "outputs": [
    {
     "name": "stdout",
     "output_type": "stream",
     "text": [
      "Word  Matched 'exercises': ['exercises', 'exercises', 'exercises']\n"
     ]
    }
   ],
   "source": [
    "sample_text = 'Python exercises, PHP exercises, C# exercises'\n",
    "word_to_find = 'exercises'\n",
    "substrings = re.findall('exercises', sample_text )\n",
    "\n",
    "print(\"Word  Matched 'exercises':\", substrings)\n"
   ]
  },
  {
   "cell_type": "markdown",
   "id": "2b671a3b",
   "metadata": {},
   "source": [
    "#### Question 18- Write a Python program to find the occurrence and position of the substrings within a string."
   ]
  },
  {
   "cell_type": "code",
   "execution_count": 66,
   "id": "11ee9d93",
   "metadata": {},
   "outputs": [
    {
     "name": "stdout",
     "output_type": "stream",
     "text": [
      "[('exercises', 7), ('exercises', 22), ('exercises', 36)]\n"
     ]
    }
   ],
   "source": [
    "sample_text = 'Python exercises, PHP exercises, C# exercises'\n",
    "words_with_positions = [(m.group(), m.start()) for m in re.finditer(\"exercises\", sample_text)]\n",
    "print(words_with_positions)"
   ]
  },
  {
   "cell_type": "markdown",
   "id": "ee2134db",
   "metadata": {},
   "source": [
    "#### Question 19- Write a Python program to convert a date of yyyy-mm-dd format to dd-mm-yyyy format."
   ]
  },
  {
   "cell_type": "code",
   "execution_count": null,
   "id": "deb0b33e",
   "metadata": {},
   "outputs": [],
   "source": []
  },
  {
   "cell_type": "markdown",
   "id": "afbc8627",
   "metadata": {},
   "source": [
    "#### Question 20- Create a function in python to find all decimal numbers with a precision of 1 or 2 in a string. The use of the re.compile() method is mandatory.\n",
    "- Sample Text: \"01.12 0132.123 2.31875 145.8 3.01 27.25 0.25\"\n",
    "- Expected Output: ['01.12', '145.8', '3.01', '27.25', '0.25']\n"
   ]
  },
  {
   "cell_type": "code",
   "execution_count": 12,
   "id": "546f0593",
   "metadata": {},
   "outputs": [
    {
     "data": {
      "text/plain": [
       "['01.12', '145.8', '3.01', '27.25', '0.25']"
      ]
     },
     "execution_count": 12,
     "metadata": {},
     "output_type": "execute_result"
    }
   ],
   "source": [
    "sample_text = \"01.12 0132.123 2.31875 145.8 3.01 27.25 0.25\"\n",
    "pattern = re.compile(r'\\b\\d+\\.\\d{1,2}\\b')\n",
    "decimal_numbers = pattern.findall(sample_text)\n",
    "decimal_numbers\n"
   ]
  },
  {
   "cell_type": "markdown",
   "id": "a34c9442",
   "metadata": {},
   "source": [
    "#### Question 21- Write a Python program to separate and print the numbers and their position of a given string"
   ]
  },
  {
   "cell_type": "code",
   "execution_count": 67,
   "id": "0a90515e",
   "metadata": {},
   "outputs": [
    {
     "name": "stdout",
     "output_type": "stream",
     "text": [
      "[('1', 29), ('2', 30), ('3', 31), ('4', 46), ('5', 47), ('6', 48), ('7', 54), ('8', 55), ('9', 56)]\n"
     ]
    }
   ],
   "source": [
    "\n",
    "sample_text = \"This is a sample string with 123 numbers like 456 and 789.\"\n",
    "numbers_with_positions = [(m.group(), m.start()) for m in re.finditer(r'\\d', sample_text)]\n",
    "print(numbers_with_positions)"
   ]
  },
  {
   "cell_type": "markdown",
   "id": "c97c4768",
   "metadata": {},
   "source": [
    "#### Question 22- Write a regular expression in python program to extract maximum/largest numeric value from a string.\n",
    "- Sample Text:  'My marks in each semester are: 947, 896, 926, 524, 734, 950, 642'\n",
    "- Expected Output: 950\n"
   ]
  },
  {
   "cell_type": "code",
   "execution_count": 28,
   "id": "5c4441bd",
   "metadata": {},
   "outputs": [
    {
     "name": "stdout",
     "output_type": "stream",
     "text": [
      "Maximum Numeric Value: 950\n"
     ]
    }
   ],
   "source": [
    "sample_text = 'My marks in each semester are: 947, 896, 926, 524, 734, 950, 642'\n",
    "\n",
    "numeric_values = re.findall(r'\\d+', sample_text)\n",
    "\n",
    "if numeric_values:\n",
    "    max_value = max(map(int, numeric_values))\n",
    "    print(\"Maximum Numeric Value:\", max_value)"
   ]
  },
  {
   "cell_type": "markdown",
   "id": "84ac077a",
   "metadata": {},
   "source": [
    "#### Question 23- Create a function in python to insert spaces between words starting with capital letters.\n",
    "- Sample Text: “RegularExpressionIsAnImportantTopicInPython\"\n",
    "- Expected Output: Regular Expression Is An Important Topic In Python\n"
   ]
  },
  {
   "cell_type": "code",
   "execution_count": 40,
   "id": "58539168",
   "metadata": {},
   "outputs": [
    {
     "name": "stdout",
     "output_type": "stream",
     "text": [
      "Expected Output:  Regular Expression Is An Important Topic In Python\n"
     ]
    }
   ],
   "source": [
    "pattern = re.compile(r'([A-Z][a-z]*)')\n",
    "space = re.sub(pattern, r' \\1', sample_text)\n",
    "\n",
    "sample_text = \"RegularExpressionIsAnImportantTopicInPython\"\n",
    "print(\"Expected Output:\", space)\n"
   ]
  },
  {
   "cell_type": "markdown",
   "id": "9afc392f",
   "metadata": {},
   "source": [
    "#### Question 24- Python regex to find sequences of one upper case letter followed by lower case letters"
   ]
  },
  {
   "cell_type": "code",
   "execution_count": 52,
   "id": "e6f37e00",
   "metadata": {},
   "outputs": [
    {
     "name": "stdout",
     "output_type": "stream",
     "text": [
      "Sequences of One Upper Case Letter Followed by Lower Case Letters: ['Regular', 'Expression', 'An', 'Important', 'Topic', 'Python']\n"
     ]
    }
   ],
   "source": [
    "pattern = re.compile(r'[A-Z][a-z]+')\n",
    "sequences = pattern.findall(sample_text)\n",
    "\n",
    "sample_text = \"Regular Expression is An Important Topic in Python\"\n",
    "\n",
    "print(\"Sequences of One Upper Case Letter Followed by Lower Case Letters:\", sequences)\n"
   ]
  },
  {
   "cell_type": "markdown",
   "id": "681194b7",
   "metadata": {},
   "source": [
    "#### Question 25- Write a Python program to remove continuous duplicate words from Sentence using Regular Expression.\n",
    "- Sample Text: \"Hello hello world world\"\n",
    "- Expected Output: Hello hello world"
   ]
  },
  {
   "cell_type": "code",
   "execution_count": 58,
   "id": "d374305d",
   "metadata": {},
   "outputs": [
    {
     "name": "stdout",
     "output_type": "stream",
     "text": [
      "Modified Text: Hello world\n"
     ]
    }
   ],
   "source": [
    "pattern = re.compile(r'\\b(\\w+)(\\s+\\1)+\\b', re.IGNORECASE)\n",
    "\n",
    "modified_text = re.sub(pattern, r'\\1', sample_text)\n",
    "\n",
    "sample_text = \"Hello hello world world\"\n",
    "print(\"Modified Text:\", modified_text)\n"
   ]
  },
  {
   "cell_type": "markdown",
   "id": "faf1203e",
   "metadata": {},
   "source": [
    "#### Question 26-  Write a python program using RegEx to accept string ending with alphanumeric character."
   ]
  },
  {
   "cell_type": "code",
   "execution_count": 63,
   "id": "09cfc07f",
   "metadata": {},
   "outputs": [
    {
     "name": "stdout",
     "output_type": "stream",
     "text": [
      "Hello123: Ends with an alphanumeric character\n",
      "abc123_: Ends with an alphanumeric character\n",
      "xyz@: Does not end with an alphanumeric character\n",
      "123: Ends with an alphanumeric character\n",
      "789a: Ends with an alphanumeric character\n"
     ]
    }
   ],
   "source": [
    "\n",
    "strings_to_check = [\"Hello123\", \"abc123_\", \"xyz@\", \"123\", \"789a\"]\n",
    "pattern = r'\\w$'\n",
    "\n",
    "for string in strings_to_check:\n",
    "    if re.search(pattern, string):\n",
    "        print(f\"{string}: Ends with an alphanumeric character\")\n",
    "    else:\n",
    "        print(f\"{string}: Does not end with an alphanumeric character\")\n"
   ]
  },
  {
   "cell_type": "markdown",
   "id": "df11cf38",
   "metadata": {},
   "source": [
    "#### Question 27-Write a python program using RegEx to extract the hashtags.\n",
    "- Sample Text:  \"\"\"RT @kapil_kausik: #Doltiwal I mean #xyzabc is \"hurt\" by #Demonetization as the same has rendered USELESS <ed><U+00A0><U+00BD><ed><U+00B1><U+0089> \"acquired funds\" No wo\"\"\"\n",
    "- Expected Output: ['#Doltiwal', '#xyzabc', '#Demonetization']\n"
   ]
  },
  {
   "cell_type": "code",
   "execution_count": 80,
   "id": "d9847744",
   "metadata": {},
   "outputs": [
    {
     "name": "stdout",
     "output_type": "stream",
     "text": [
      "Extracted Hashtags: ['#Doltiwal', '#xyzabc', '#Demonetization']\n"
     ]
    }
   ],
   "source": [
    "pattern = re.compile(r'#\\w+')\n",
    "hashtags = pattern.findall(sample_text)\n",
    "sample_text = \"\"\"RT @kapil_kausik: #Doltiwal I mean #xyzabc is \"hurt\" by #Demonetization as the same has rendered USELESS <ed><U+00A0><U+00BD><ed><U+00B1><U+0089> \"acquired funds\" No wo\"\"\"\n",
    "print(\"Extracted Hashtags:\", hashtags)"
   ]
  },
  {
   "cell_type": "markdown",
   "id": "b13459ad",
   "metadata": {},
   "source": [
    "#### Question 28- Write a python program using RegEx to remove <U+..> like symbols\n",
    "Check the below sample text, there are strange symbols something of the sort <U+..> all over the place. You need to come up with a general Regex expression that will cover all such symbols.\n",
    "- Sample Text: \"@Jags123456 Bharat band on 28??<ed><U+00A0><U+00BD><ed><U+00B8><U+0082>Those who  are protesting #demonetization  are all different party leaders\"\n",
    "- Expected Output: @Jags123456 Bharat band on 28??<ed><ed>Those who  are protesting #demonetization  are all different party leaders\n"
   ]
  },
  {
   "cell_type": "code",
   "execution_count": 109,
   "id": "63812108",
   "metadata": {},
   "outputs": [
    {
     "name": "stdout",
     "output_type": "stream",
     "text": [
      "Extracted Hashtags: @Jags123456 Bharat band on 28??Those who are protesting #demonetization are all different party leaders\n"
     ]
    }
   ],
   "source": [
    "abc = \"@Jags123456 Bharat band on 28??<U+00A0><U+00BD><U+00B8><U+0082>Those who are protesting #demonetization are all different party leaders\"\n",
    "pattern = re.compile(r'<U\\+[0-9A-Fa-f]+>')\n",
    "abc_text = re.sub(pattern,'', abc)\n",
    "print(\"Extracted Hashtags:\", abc_text)"
   ]
  },
  {
   "cell_type": "markdown",
   "id": "478ee903",
   "metadata": {},
   "source": [
    "#### Question 29- Write a python program to extract dates from the text stored in the text file.\n",
    "- Sample Text: Ron was born on 12-09-1992 and he was admitted to school 15-12-1999.\n",
    "- Note- Store this sample text in the file and then extract dates.\n"
   ]
  },
  {
   "cell_type": "code",
   "execution_count": 91,
   "id": "bfc3fdc8",
   "metadata": {},
   "outputs": [
    {
     "name": "stdout",
     "output_type": "stream",
     "text": [
      "Extracted Dates: ['12-09-1992', '15-12-1999']\n"
     ]
    }
   ],
   "source": [
    "with open('sample3.txt', 'r') as file:\n",
    "    text = file.read()\n",
    "date_pattern = re.compile(r'\\b\\d{2}-\\d{2}-\\d{4}\\b')\n",
    "dates = date_pattern.findall(text)\n",
    "\n",
    "# Print the extracted dates\n",
    "print(\"Extracted Dates:\", dates)"
   ]
  },
  {
   "cell_type": "markdown",
   "id": "4e1ec5dd",
   "metadata": {},
   "source": [
    "#### Question 30- Create a function in python to remove all words from a string of length between 2 and 4.\n",
    "The use of the re.compile() method is mandatory.\n",
    "- Sample Text: \"The following example creates an ArrayList with a capacity of 50 elements. 4 elements are then added to the ArrayList and the ArrayList is trimmed accordingly.\"\n",
    "- Expected Output:  following example creates ArrayList a capacity elements. 4 elements added ArrayList ArrayList trimmed accordingly.\n"
   ]
  },
  {
   "cell_type": "code",
   "execution_count": 103,
   "id": "d3494093",
   "metadata": {},
   "outputs": [
    {
     "name": "stdout",
     "output_type": "stream",
     "text": [
      "Expected Output:  following example creates  ArrayList  a capacity   elements. 4 elements   added   ArrayList   ArrayList  trimmed accordingly.\n"
     ]
    }
   ],
   "source": [
    "sample_text = \"The following example creates an ArrayList with a capacity of 50 elements. 4 elements are then added to the ArrayList and the ArrayList is trimmed accordingly.\"\n",
    "pattern = re.compile(r'\\b\\w{2,4}\\b')\n",
    "output_text = re.sub(pattern, '', sample_text)\n",
    "print(\"Expected Output:\", output_text)"
   ]
  },
  {
   "cell_type": "code",
   "execution_count": null,
   "id": "0ea1d148",
   "metadata": {},
   "outputs": [],
   "source": []
  }
 ],
 "metadata": {
  "kernelspec": {
   "display_name": "Python 3 (ipykernel)",
   "language": "python",
   "name": "python3"
  },
  "language_info": {
   "codemirror_mode": {
    "name": "ipython",
    "version": 3
   },
   "file_extension": ".py",
   "mimetype": "text/x-python",
   "name": "python",
   "nbconvert_exporter": "python",
   "pygments_lexer": "ipython3",
   "version": "3.11.5"
  }
 },
 "nbformat": 4,
 "nbformat_minor": 5
}
