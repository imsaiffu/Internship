{
 "cells": [
  {
   "cell_type": "code",
   "execution_count": 1,
   "id": "8a6eee3f",
   "metadata": {},
   "outputs": [],
   "source": [
    "# Importing the required libraries\n",
    "from bs4 import BeautifulSoup\n",
    "import requests\n",
    "import pandas as pd"
   ]
  },
  {
   "cell_type": "markdown",
   "id": "2ce2bf0b",
   "metadata": {},
   "source": [
    "## 1) Write a python program to display IMDB’s Top rated 100 Indian movies’ data\n",
    "https://www.imdb.com/list/ls056092300/ (i.e. name, rating, year ofrelease) and make data frame."
   ]
  },
  {
   "cell_type": "code",
   "execution_count": 8,
   "id": "02aa6328",
   "metadata": {},
   "outputs": [
    {
     "data": {
      "text/plain": [
       "<Response [403]>"
      ]
     },
     "execution_count": 8,
     "metadata": {},
     "output_type": "execute_result"
    }
   ],
   "source": [
    "page = requests.get('https://www.imdb.com/list/ls056092300/')\n",
    "page"
   ]
  },
  {
   "cell_type": "code",
   "execution_count": 9,
   "id": "deca9d8c",
   "metadata": {},
   "outputs": [
    {
     "data": {
      "text/plain": [
       "'\\n403 Forbidden\\n\\n403 Forbidden\\n\\n\\n'"
      ]
     },
     "execution_count": 9,
     "metadata": {},
     "output_type": "execute_result"
    }
   ],
   "source": [
    "soup = BeautifulSoup(page.content)\n",
    "soup.text"
   ]
  },
  {
   "cell_type": "markdown",
   "id": "3b94bb2d",
   "metadata": {},
   "source": [
    "## 2) Write a python program to scrape details of all the posts from \n",
    "https://www.patreon.com/coreyms .Scrape the\n",
    "heading, date, content and the likes for the video from the link for the youtube video from the post."
   ]
  },
  {
   "cell_type": "code",
   "execution_count": 2,
   "id": "8171cee5",
   "metadata": {},
   "outputs": [
    {
     "data": {
      "text/plain": [
       "<Response [200]>"
      ]
     },
     "execution_count": 2,
     "metadata": {},
     "output_type": "execute_result"
    }
   ],
   "source": [
    "core = requests.get('https://www.patreon.com/coreyms/posts')\n",
    "core"
   ]
  },
  {
   "cell_type": "code",
   "execution_count": 3,
   "id": "4c1445af",
   "metadata": {},
   "outputs": [
    {
     "data": {
      "text/plain": [
       "'Corey Schafer | creating Programming Tutorials | PatreonSkip navigationPatreon logoLog inPatreon logoCreate on PatreonLog inCorey Schafercreating Programming Tutorials477 members236 postsJoin for freeHomeAboutChoose your membershipRecommendedWill add your name to my website$1  \\xa0/ monthJoinI appreciate any support! Anyone who is a contributor through Patreon will have the option to be added to my Contributors page on my personal website (coreyms.com)\\xa0You might likeEarly Access to YouTube Videos$3  \\xa0/ monthJoinAll of my content is available for free on YouTube, but if you support at this tier then I will give you early access to videos days before they go public. I will post links to Patreon and YouTube when an early access video is available.\\xa0You will also have access to all of the rewards for my lower tiers. In total, you will receive:Early Access to Videos Be added to my Contributors page on my personal website (coreyms.com)RecommendedYour Name Listed at the End of My Videos$5  \\xa0/ monthJoinI will now be adding Patron credits to the end of each of my videos where I list all of my current Patrons who support me at this level or higher. The names will be listed with my biggest supporters towards the top.\\xa0You will also have access to all of the rewards for my lower tiers. In total, you will receive:Your Name Listed at the End of My VideosEarly Access to Videos\\xa0Be added to my Contributors page on my personal website (coreyms.com)RecommendedBe Featured as a Top Contributor$20  \\xa0/ monthJoinBe featured on every page of my personal website (coreyms.com) as a top contributor. You will also have access to all of the rewards for my lower tiers. In total, you will receive:Be Featured as a Top Contributor on\\xa0my personal website (coreyms.com)Your Name Listed at the End of My VideosEarly Access to Videos••See all 4 tiersRecent posts by Corey SchaferEnglish (United States)$ USDReport this creator•© 2024 PatreonCreate on PatreonCorey SchaferUnlock 236 postsJoin nowUnlock 236 exclusive posts and join a community of 477 membersStarting at $1  /monthJoin now'"
      ]
     },
     "execution_count": 3,
     "metadata": {},
     "output_type": "execute_result"
    }
   ],
   "source": [
    "post = BeautifulSoup(core.content)\n",
    "post.text"
   ]
  },
  {
   "cell_type": "code",
   "execution_count": 4,
   "id": "a603a688",
   "metadata": {},
   "outputs": [
    {
     "data": {
      "text/plain": [
       "'Choose your membership'"
      ]
     },
     "execution_count": 4,
     "metadata": {},
     "output_type": "execute_result"
    }
   ],
   "source": [
    "heading = post.find('h2')\n",
    "heading.text"
   ]
  },
  {
   "cell_type": "code",
   "execution_count": 7,
   "id": "ed06a620",
   "metadata": {},
   "outputs": [],
   "source": []
  },
  {
   "cell_type": "markdown",
   "id": "ef78cb70",
   "metadata": {},
   "source": [
    "## 3) Write a python program to scrape house details from mentioned URL. It should include house title, location,\n",
    "area, EMI and price from https://www.nobroker.in/ .Enter three localities which are Indira Nagar, Jayanagar,\n",
    "Rajaji Nagar."
   ]
  },
  {
   "cell_type": "code",
   "execution_count": 42,
   "id": "1de6a904",
   "metadata": {},
   "outputs": [
    {
     "data": {
      "text/plain": [
       "<Response [200]>"
      ]
     },
     "execution_count": 42,
     "metadata": {},
     "output_type": "execute_result"
    }
   ],
   "source": [
    "pge = requests.get('https://www.nobroker.in/property/sale/bangalore/Indiranagar?searchParam=W3sibGF0IjoxMi45NzgzNjkyLCJsb24iOjc3LjY0MDgzNTYsInBsYWNlSWQiOiJDaElKa1FOM0dLUVdyanNSTmhCUUpyaEdEN1UiLCJwbGFjZU5hbWUiOiJJbmRpcmFuYWdhciJ9XQ==&radius=2.0&city=bangalore&locality=Indiranagar')\n",
    "pge"
   ]
  },
  {
   "cell_type": "code",
   "execution_count": 43,
   "id": "094f677d",
   "metadata": {},
   "outputs": [
    {
     "data": {
      "text/plain": [
       "\"\\n\\n\\n\\n\\n\\n\\n\\n\\n\\n\\n\\n\\n\\n\\n\\n\\n\\n\\n\\n\\n\\n\\n\\n\\n\\n\\n\\n\\n\\n\\n\\n\\n\\n\\n\\n\\nHouses, Apartments for Sale in Indiranagar, Bangalore |  Flats in  Indiranagar   - NoBroker\\n\\n\\n\\n\\n\\n\\n\\n\\n\\n\\n\\n\\n\\n\\n\\n\\n\\n\\n\\n\\n\\n\\n\\n\\n\\n\\n\\n\\n\\n\\n\\n\\n\\n\\n\\n\\n\\n BuyPay RentPost Your PropertySign upLog inMenuPost Your PropertyRental AgreementPainting & CleaningPackers and MoversRefer & EarnRent ReceiptsTenant PlansOwner PlansBuyer PlansSeller PlansCommercial PlansCareersCorporate EnquiryBlogContact UsEmailhello@nobroker.inSign upLog inIndiranagarLocationMetroSearchSave Search ListMapFiltersPremium FiltersNewResetBHK Type1 RK1 BHK2 BHK3 BHK4 BHK4+ BHKNew Builder ProjectsOfferPrice Range: ₹ 0 to ₹ 10 CrProperty StatusUnder ConstructionReadyFurnishingFullSemiNoneProperty TypeApartmentIndependent House/VillaGated Community VillaStandalone BuildingParking 2 Wheeler4 WheelerHome \\xa0/\\xa0bangalore\\xa0/\\xa0IndiranagarSort By: nbrank,desc56 - Flats, Apartments for Sale in  Indiranagar, Bangalore  |  Flats  in Indiranagar4+ BHK Flat For Sale  In Rdx StudiosStandalone Building, Indiranagar Explore NearbyPrithvi 475000002024-05-204+ BHK Flat For Sale  In Rdx StudiosStandalone Building, Indiranagar 4+ BHK Flat For Sale  In Rdx StudiosRDX Studiosbangalore4+ BHK Flat For Sale  In Rdx StudiosRDX Studiosbangalore2Not under loan₹ ₹4.75 Crores₹13,107 per sq.ft.₹2.72 Lacs/MonthEstimated EMI3,624 sqftBuiltup1/64WestFacing4+ BHKApartment Type5BathroomsBikeParkingGet Owner Details4 BHK House For Sale  In IndiranagarIndependent House,  100 Feet Rd Near New Horizon Public SchoolExplore NearbyPRAKASAN 350000002024-05-194 BHK House For Sale  In IndiranagarIndependent House,  100 Feet Rd Near New Horizon Public School4 BHK House For Sale  In IndiranagarIndiranagarbangalore4 BHK House For Sale  In IndiranagarIndiranagarbangalore4Not under loan₹ ₹3.5 Crores₹7,292 per sq.ft.₹2.01 Lacs/MonthEstimated EMI4,800 sqftBuiltup1/11SouthFacing4 BHKApartment Type8BathroomsBike and CarParkingGet Owner Details4+ BHK House For Sale  In IndiranagarIndependent House, 101, 10th Cross Road, 1st StageExplore Nearbypercy pinto 750000002024-03-314+ BHK House For Sale  In IndiranagarIndependent House, 101, 10th Cross Road, 1st Stage4+ BHK House For Sale  In IndiranagarIndiranagarbangalore4+ BHK House For Sale  In IndiranagarIndiranagarbangalore2Not under loan₹ ₹7.5 Crores₹26,786 per sq.ft.₹4.3 Lacs/MonthEstimated EMI2,800 sqftBuiltup1/23EastFacing4+ BHKApartment Type8BathroomsBike and CarParkingGet Owner Details0.9 km from Swami Vivekananda RoadExplore More PropertiesTop Builder ProjectsView AllCentury Regalia5.6 Crores - 7.5 CroresViewEmbassy Grove 9.8 Crores - 18.5 CroresViewKoncept Ambience Downtown3.76 Crores - 5.77 CroresViewVaishnavi Premiere4.9 Crores - 6.9 CroresViewGodrej Athena2.72 Crores - 3.04 CroresViewSattva Magnificia6 Crores - 6.77 CroresViewRaheja Vivarea4.38 Crores - 15.37 CroresViewPurva Orient Grand5.5 Crores - 8.9 CroresViewPacifica Hamilton Towers3.89 Crores - 4.77 CroresViewCornerstone Akhinta Residences3.43 Crores - 4.74 CroresViewShriram Esquire2.98 Crores OnwardsViewVista Svara LalBagh2.06 Crores - 4.37 CroresViewCodename Marathahalli Peak1.79 Crores - 2.5 CroresViewKumar Prospera HBR1.15 Crores - 2.3 CroresViewDNR Arista1.66 Crores - 3.53 CroresViewDra Ranka Iris6.28 Crores - 7.34 CroresViewLegacy Saviero1.46 Crores - 1.49 CroresViewOzone WF481.4 Crores - 2.2 CroresViewKMB La Palazzo4.1 Crores OnwardsViewY at Whitefield59 Lacs OnwardsView3 BHK Flat In Nilavu  For Sale  In IndiranagarIndira Nagar II Stage, Hoysala Nagar, Near BDA ComplexExplore NearbyRajesh MAhadevan 299000002024-02-043 BHK Flat In Nilavu  For Sale  In IndiranagarIndira Nagar II Stage, Hoysala Nagar, Near BDA Complex3 BHK Flat In Nilavu  For Sale  In IndiranagarIndiranagarbangalore3 BHK Flat In Nilavu  For Sale  In IndiranagarIndiranagarbangaloreNot under loan₹ ₹2.99 Crores₹18,688 per sq.ft.₹1.71 Lacs/MonthEstimated EMI1,600 sqftBuiltup1/26EastFacing3 BHKApartment Type2BathroomsBike and CarParkingGet Owner Details4+ BHK House For Sale  In IndiranagarIndependent House, 2nd stage near  Bharat dry fruits and spicesExplore NearbySrinivas 310000002024-05-244+ BHK House For Sale  In IndiranagarIndependent House, 2nd stage near  Bharat dry fruits and spices4+ BHK House For Sale  In IndiranagarIndiranagarbangalore4+ BHK House For Sale  In IndiranagarIndiranagarbangalore3Not under loan₹ ₹3.1 Crores₹6,458 per sq.ft.₹1.78 Lacs/MonthEstimated EMI4,800 sqftBuiltup1/7NorthFacing4+ BHKApartment Type3BathroomsBike and CarParkingGet Owner Details3 BHK Flat In Athena Northstar  For Sale  In Indiranagar C M H Road, 2nd Stage, 5th Main Road, near  TIME Head Office - CAT,GMAT,GRE,IPM,CLATExplore NearbyAmresh 368000002024-05-183 BHK Flat In Athena Northstar  For Sale  In Indiranagar C M H Road, 2nd Stage, 5th Main Road, near  TIME Head Office - CAT,GMAT,GRE,IPM,CLAT3 BHK Flat In Athena Northstar  For Sale  In IndiranagarIndiranagarbangalore3 BHK Flat In Athena Northstar  For Sale  In IndiranagarIndiranagarbangalore4Not under loan₹ ₹3.68 Crores₹17,045 per sq.ft.₹2.11 Lacs/MonthEstimated EMI2,159 sqftBuiltup1/18NorthFacing3 BHKApartment Type3BathroomsBike and CarParkingGet Owner DetailsTop Societies in your SearchDiamond District5 ApartmentsViewSamhita Saipad3 ApartmentsViewSai Uday Mohan Apartments3 ApartmentsViewHighness Residency2 ApartmentsViewRekhi Brooklyn Apartments2 ApartmentsViewTemple Tree Apartments2 ApartmentsViewNatasha Golf View Apartments2 ApartmentsViewRaghava Residency2 ApartmentsViewKristal Moonstone2 ApartmentsViewAakrithi Apartments1 ApartmentViewNandeep Apartments1 ApartmentViewPrestige Leela Residences1 ApartmentViewGaruda Enclave1 ApartmentViewMutual Apartments1 ApartmentViewGitanjali Apartments1 ApartmentViewJay Paradise1 ApartmentViewDuo Harmony1 ApartmentViewAxis Viviana1 ApartmentViewAdarsh Crystal1 ApartmentViewAbu Apartments1 ApartmentView4+ BHK Flat For Sale  In IndiranagarStandalone Building, 2 stage near bata showroom Explore NearbyJeniffer  1500000002024-05-314+ BHK Flat For Sale  In IndiranagarStandalone Building, 2 stage near bata showroom 4+ BHK Flat For Sale  In IndiranagarIndiranagarbangalore4+ BHK Flat For Sale  In IndiranagarIndiranagarbangalore3Not under loan₹ ₹15 Crores₹12,500 per sq.ft.₹8.6 Lacs/MonthEstimated EMI12,000 sqftBuiltup1/6EastFacing4+ BHKApartment Type7BathroomsBike and CarParkingGet Owner Details2 BHK Flat In Nasco Marvel, Indiranagar For Sale  In Indiranagar11-15, 17th F Cross Rd, Stage 2, Indiranagar, Bengaluru, Karnataka 560038, IndiaExplore NearbyKiran Joshi 150000002024-07-312 BHK Flat In Nasco Marvel, Indiranagar For Sale  In Indiranagar11-15, 17th F Cross Rd, Stage 2, Indiranagar, Bengaluru, Karnataka 560038, India2 BHK Flat In Nasco Marvel, Indiranagar For Sale  In IndiranagarIndiranagarbangalore2 BHK Flat In Nasco Marvel, Indiranagar For Sale  In IndiranagarIndiranagarbangalore2Not under loan₹ ₹1.5 Crores₹17,773 per sq.ft.₹85,971/MonthEstimated EMI844 sqftBuiltupEastFacing2 BHKApartment Type2BathroomsBike and CarParkingGet Owner Details0.9 km from IndiranagarExplore More Properties1 BHK Flat For Sale  In Doopanahalli, Indiranagar, Bengaluru, Karnataka, IndiaIndependent House, near Shree Muthalayamma templeExplore Nearbyprathi prathiba 70000002024-05-161 BHK Flat For Sale  In Doopanahalli, Indiranagar, Bengaluru, Karnataka, IndiaIndependent House, near Shree Muthalayamma temple1 BHK Flat For Sale  In Doopanahalli, Indiranagar, Bengaluru, Karnataka, IndiaDoopanahalli, Indiranagar, Bengaluru, Karnataka, Indiabangalore1 BHK Flat For Sale  In Doopanahalli, Indiranagar, Bengaluru, Karnataka, IndiaDoopanahalli, Indiranagar, Bengaluru, Karnataka, Indiabangalore4Not under loan₹ ₹70 Lacs₹15,909 per sq.ft.₹40,120/MonthEstimated EMI440 sqftBuiltup1/2NorthFacing1 BHKApartment Type1BathroomsBikeParkingGet Owner Details2 BHK Flat In Team Green Wood Apartment For Sale  In Indiranagar3rd Main Rd, Indira Nagar 1st Stage, H Colony, Indiranagar, Bengaluru, Karnataka 560038, IndiaExplore NearbyMOHSIN KHAN 150000002024-07-062 BHK Flat In Team Green Wood Apartment For Sale  In Indiranagar3rd Main Rd, Indira Nagar 1st Stage, H Colony, Indiranagar, Bengaluru, Karnataka 560038, India2 BHK Flat In Team Green Wood Apartment For Sale  In IndiranagarIndiranagarbangalore5600382 BHK Flat In Team Green Wood Apartment For Sale  In IndiranagarIndiranagarbangalore5600382Not under loan₹ ₹1.5 Crores₹14,019 per sq.ft.₹85,971/MonthEstimated EMI1,070 sqftBuiltupRequest PhotosDon't KnowFacing2 BHKApartment Type2BathroomsBike and CarParkingGet Owner Details1 BHK Flat For Sale  In Indiranagar standalone building,  H Colony, near Silicon City Public SchoolExplore NearbyRavi 30000002023-10-011 BHK Flat For Sale  In Indiranagar standalone building,  H Colony, near Silicon City Public School1 BHK Flat For Sale  In Indiranagar Indiranagar bangalore1 BHK Flat For Sale  In Indiranagar Indiranagar bangaloreNot under loan₹ ₹30 Lacs₹5,000 per sq.ft.₹17,194/MonthEstimated EMI600 sqftBuiltup1/7North-EastFacing1 BHKApartment Type1BathroomsCarParkingGet Owner Details2 BHK Flat In Gopalan Admiralty Premier For Sale  In Gopalan Admirality Premier6th Main/15th Cross on Double Road, one minute walk from City Nest Sports ClubExplore NearbyKumar 145000002024-05-182 BHK Flat In Gopalan Admiralty Premier For Sale  In Gopalan Admirality Premier6th Main/15th Cross on Double Road, one minute walk from City Nest Sports Club2 BHK Flat In Gopalan Admiralty Premier For Sale  In Gopalan Admirality PremierGopalan Admirality Premierbangalore2 BHK Flat In Gopalan Admiralty Premier For Sale  In Gopalan Admirality PremierGopalan Admirality Premierbangalore5Not under loan₹ ₹1.45 Crores₹12,124 per sq.ft.₹83,106/MonthEstimated EMI1,196 sqftBuiltup1/7North-WestFacing2 BHKApartment Type2BathroomsBike and CarParkingGet Owner Details4+ BHK Flat For Sale  In IndiranagarIndependent House, Stage 3 near SSB International SchoolExplore Nearbysyedyusuf 199000002023-11-104+ BHK Flat For Sale  In IndiranagarIndependent House, Stage 3 near SSB International School4+ BHK Flat For Sale  In IndiranagarIndiranagarbangalore4+ BHK Flat For Sale  In IndiranagarIndiranagarbangalore5Not under loan₹ ₹1.99 Crores₹7,370 per sq.ft.₹1.14 Lacs/MonthEstimated EMI2,700 sqftBuiltup1/30SouthFacing4+ BHKApartment Type6BathroomsNoneParkingGet Owner Details4+ BHK House For Sale  In Indiranagar Metro StationIndependent House, 224, 7th Cross, 1st stage IndiranagarExplore Nearbyjoseph 950000002024-02-054+ BHK House For Sale  In Indiranagar Metro StationIndependent House, 224, 7th Cross, 1st stage Indiranagar4+ BHK House For Sale  In Indiranagar Metro StationIndiranagar Metro Stationbangalore4+ BHK House For Sale  In Indiranagar Metro StationIndiranagar Metro Stationbangalore2Not under loan₹ ₹9.5 Crores₹19,000 per sq.ft.₹5.44 Lacs/MonthEstimated EMI5,000 sqftBuiltup1/109WestFacing4+ BHKApartment Type9BathroomsBike and CarParkingGet Owner Details4 BHK House For Sale  In Indira Nagar Independent House, II Stage opposite to BBMP officeExplore NearbySridhar Nuggehally 400000002024-04-284 BHK House For Sale  In Indira Nagar Independent House, II Stage opposite to BBMP office4 BHK House For Sale  In Indira Nagar Indira Nagar bangalore4 BHK House For Sale  In Indira Nagar Indira Nagar bangalore3Not under loan₹ ₹4 Crores₹16,000 per sq.ft.₹2.29 Lacs/MonthEstimated EMI2,500 sqftBuiltup1/3North-WestFacing4 BHKApartment Type3BathroomsCarParkingGet Owner Details4+ BHK House For Sale  In Indira NagarIndependent House, Indira Nagar , cmh road Explore NearbyKavitha 450000002024-04-234+ BHK House For Sale  In Indira NagarIndependent House, Indira Nagar , cmh road 4+ BHK House For Sale  In Indira NagarIndira Nagarbangalore4+ BHK House For Sale  In Indira NagarIndira NagarbangaloreNot under loan₹ ₹4.5 Crores₹37,500 per sq.ft.₹2.58 Lacs/MonthEstimated EMI1,200 sqftBuiltupEastFacing4+ BHKApartment Type5BathroomsBike and CarParkingGet Owner Details0.8 km from HalasuruExplore More Properties4+ BHK Flat In Saikrupa Apartment Indiranagar For Sale  In Indiranagar1st Cross RoadExplore NearbyNeeta 298000002023-04-274+ BHK Flat In Saikrupa Apartment Indiranagar For Sale  In Indiranagar1st Cross Road4+ BHK Flat In Saikrupa Apartment Indiranagar For Sale  In IndiranagarIndiranagarbangalore4+ BHK Flat In Saikrupa Apartment Indiranagar For Sale  In IndiranagarIndiranagarbangalore3Not under loan₹ ₹2.98 Crores₹11,896 per sq.ft.₹1.71 Lacs/MonthEstimated EMI2,505 sqftBuiltup1/7WestFacing4+ BHKApartment Type5BathroomsBike and CarParkingGet Owner Details3 BHK Apartment In Sai Uday Mohan Apartments For Sale  In IndiranagarSai Uday Mohan Apartments\\xa0 Sai Uday Mohan Apartments, 38, Appareddy Palya Rd, New Akash Nagar, Stage 3, Indiranagar, Bengaluru, Karnataka 560038, IndiaExplore NearbyB. Shaw 157000002024-04-113 BHK Flat In Sai Uday Mohan Apartments For Sale  In IndiranagarSai Uday Mohan Apartments, 38, Appareddy Palya Rd, New Akash Nagar, Stage 3, Indiranagar, Bengaluru, Karnataka 560038, India3 BHK Flat In Sai Uday Mohan Apartments For Sale  In IndiranagarIndiranagarbangalore3 BHK Flat In Sai Uday Mohan Apartments For Sale  In IndiranagarIndiranagarbangaloreNot under loan₹ ₹1.57 Crores₹10,261 per sq.ft.₹89,983/MonthEstimated EMI1,530 sqftBuiltup1/26WestFacing3 BHKApartment Type3BathroomsBike and CarParkingGet Owner Details2 BHK Flat In Jmj Apartments For Sale  In IndiranagarOpp. 6th main,100ft. roadExplore NearbyShilpi Chauhan  225000002023-11-202 BHK Flat In Jmj Apartments For Sale  In IndiranagarOpp. 6th main,100ft. road2 BHK Flat In Jmj Apartments For Sale  In IndiranagarIndiranagarbangalore2 BHK Flat In Jmj Apartments For Sale  In IndiranagarIndiranagarbangalore4Not under loan₹ ₹2.25 Crores₹18,595 per sq.ft.₹1.29 Lacs/MonthEstimated EMI1,210 sqftBuiltupEastFacing2 BHKApartment Type2BathroomsBike and CarParkingGet Owner Details4+ BHK House For Sale  In IndiranagarIndependent House, 15th Cross RoadExplore NearbyKhushbu 800000002024-04-084+ BHK House For Sale  In IndiranagarIndependent House, 15th Cross Road4+ BHK House For Sale  In IndiranagarIndiranagarbangalore4+ BHK House For Sale  In IndiranagarIndiranagarbangalore3Not under loan₹ ₹8 Crores₹13,333 per sq.ft.₹4.59 Lacs/MonthEstimated EMI6,000 sqftBuiltup1/21EastFacing4+ BHKApartment Type9BathroomsCarParkingGet Owner Details4 BHK Flat For Sale  In Indiranagar Standalone Building, Near Annamma Swamy Temple & New Star BakeryExplore NearbyParthiben G 180000002024-04-094 BHK Flat For Sale  In Indiranagar Standalone Building, Near Annamma Swamy Temple & New Star Bakery4 BHK Flat For Sale  In Indiranagar Indiranagar bangalore4 BHK Flat For Sale  In Indiranagar Indiranagar bangalore3Under Loan₹ ₹1.8 Crores₹18,947 per sq.ft.₹1.03 Lacs/MonthEstimated EMI950 sqftBuiltup1/23EastFacing4 BHKApartment Type3BathroomsBikeParkingGet Owner Details0.9 km from HalasuruExplore More Properties3 BHK Apartment In Moonstone 201 For Sale  In IndiranagarMoonstone 201\\xa0 Kristal Moonstone, 1st Cross Rd, HAL 2nd Stage, Doopanahalli, Indiranagar, Bengaluru, Karnataka 560008, IndiaExplore NearbyHarbinder Singh 220000002024-04-093 BHK Flat In Moonstone 201 For Sale  In IndiranagarKristal Moonstone, 1st Cross Rd, HAL 2nd Stage, Doopanahalli, Indiranagar, Bengaluru, Karnataka 560008, India3 BHK Flat In Moonstone 201 For Sale  In IndiranagarIndiranagarbangalore3 BHK Flat In Moonstone 201 For Sale  In IndiranagarIndiranagarbangalore5Not under loan₹ ₹2.2 Crores₹14,915 per sq.ft.₹1.26 Lacs/MonthEstimated EMI1,475 sqftBuiltup1/8EastFacing3 BHKApartment Type2BathroomsCarParkingGet Owner Details3 BHK Flat In Gopalan Admirality Court For Sale  In Indiranagar 6th Main Rd, Eshwara Layout, Indiranagar, Bengaluru, Karnataka 560038, IndiaExplore NearbySai Prasad Ivaturi 250000002024-01-253 BHK Flat In Gopalan Admirality Court For Sale  In Indiranagar 6th Main Rd, Eshwara Layout, Indiranagar, Bengaluru, Karnataka 560038, India3 BHK Flat In Gopalan Admirality Court For Sale  In IndiranagarIndiranagarbangalore3 BHK Flat In Gopalan Admirality Court For Sale  In IndiranagarIndiranagarbangalore5Not under loan₹ ₹2.5 Crores₹13,158 per sq.ft.₹1.43 Lacs/MonthEstimated EMI1,900 sqftBuiltup1/33WestFacing3 BHKApartment Type3BathroomsCarParkingGet Owner Details4+ BHK House For Sale  In IndiranagarIndependent House, Binnamangala Hutting Colony.Explore NearbyDeepak 450000002024-06-284+ BHK House For Sale  In IndiranagarIndependent House, Binnamangala Hutting Colony.4+ BHK House For Sale  In IndiranagarIndiranagarbangalore4+ BHK House For Sale  In IndiranagarIndiranagarbangalore4Not under loan₹ ₹4.5 Crores₹19,149 per sq.ft.₹2.58 Lacs/MonthEstimated EMI2,350 sqftBuiltup1/8North-WestFacing4+ BHKApartment Type5BathroomsBike and CarParkingGet Owner Details2 BHK Flat In Lords Aparment For Sale  In Kodihalli80 Feet Road, HAL 2nd Stage near Liquid Propulsion Systems Centre/ISROExplore NearbyMSR Sathyanarayana 100000002024-03-212 BHK Flat In Lords Aparment For Sale  In Kodihalli80 Feet Road, HAL 2nd Stage near Liquid Propulsion Systems Centre/ISRO2 BHK Flat In Lords Aparment For Sale  In KodihalliKodihallibangalore2 BHK Flat In Lords Aparment For Sale  In KodihalliKodihallibangaloreNot under loan₹ ₹1 Crore₹11,111 per sq.ft.₹57,314/MonthEstimated EMI900 sqftBuiltupNorthFacing2 BHKApartment Type2BathroomsBike and CarParkingGet Owner Details4+ BHK Flat For Sale  In Rdx StudiosStandalone Building, Indiranagar Explore NearbyPrithvi 475000002024-05-204+ BHK Flat For Sale  In Rdx StudiosStandalone Building, Indiranagar 4+ BHK Flat For Sale  In Rdx StudiosRDX Studiosbangalore4+ BHK Flat For Sale  In Rdx StudiosRDX StudiosbangaloreNot under loan₹ ₹4.75 Crores₹13,107 per sq.ft.₹2.72 Lacs/MonthEstimated EMI3,624 sqftBuiltup1/64WestFacing4+ BHKApartment Type5BathroomsBikeParkingGet Owner DetailsQuick linksPeople also searched forFlats in Domlur for saleFlats in New Tippasandra for saleFlats in Maruthi Sevanagar for saleFlats in Halasuru for saleFlats in Sarvagnanagar for saleFlats in Kodihalli for saleNew ProjectsNew Projects in Domlur New Projects in New Tippasandra New Projects in Maruthi Sevanagar New Projects in Halasuru New Projects in Sarvagnanagar New Projects in Kodihalli /property/sale/bangalore/Indiranagarhttps://www.google.com/maps/search/?api=1&query=,VenueMap/property/sale/bangalore/Indiranagar\\n\\n\\n\\n\\n\\n\\n\\n\\n\\n\\n\\n\\n\\n\\n\\n\\n\\n\\n\\n\\n\\n\\n\\n\\n\\n\\n\\n\\n\\n\\n\\n\\n\\n\\n\\n\\n\\n\\n\\n\\n\\n\\n\\n\\n\\n\\n\\n\\nIf you're seeing this message, that means JavaScript has been disabled on your browser, please enable JS to make this app work.\\n\\n\\n\\n\\n\\n\""
      ]
     },
     "execution_count": 43,
     "metadata": {},
     "output_type": "execute_result"
    }
   ],
   "source": [
    "sop = BeautifulSoup(pge.content)\n",
    "sop.text"
   ]
  },
  {
   "cell_type": "code",
   "execution_count": 62,
   "id": "df610505",
   "metadata": {},
   "outputs": [
    {
     "data": {
      "text/plain": [
       "['4+ BHK Flat For Sale  In Rdx Studios',\n",
       " '4 BHK House For Sale  In Indiranagar',\n",
       " '4+ BHK House For Sale  In Indiranagar',\n",
       " '3 BHK Flat In Nilavu  For Sale  In Indiranagar',\n",
       " '4+ BHK House For Sale  In Indiranagar',\n",
       " '3 BHK Flat In Athena Northstar  For Sale  In Indiranagar',\n",
       " '4+ BHK Flat For Sale  In Indiranagar',\n",
       " '2 BHK Flat In Nasco Marvel, Indiranagar For Sale  In Indiranagar',\n",
       " '1 BHK Flat For Sale  In Doopanahalli, Indiranagar, Bengaluru, Karnataka, India',\n",
       " '2 BHK Flat In Team Green Wood Apartment For Sale  In Indiranagar',\n",
       " '1 BHK Flat For Sale  In Indiranagar ',\n",
       " '2 BHK Flat In Gopalan Admiralty Premier For Sale  In Gopalan Admirality Premier',\n",
       " '4+ BHK Flat For Sale  In Indiranagar',\n",
       " '4+ BHK House For Sale  In Indiranagar Metro Station',\n",
       " '4 BHK House For Sale  In Indira Nagar ',\n",
       " '4+ BHK House For Sale  In Indira Nagar',\n",
       " '4+ BHK Flat In Saikrupa Apartment Indiranagar For Sale  In Indiranagar',\n",
       " '3 BHK Apartment In Sai Uday Mohan Apartments For Sale  In Indiranagar',\n",
       " '2 BHK Flat In Jmj Apartments For Sale  In Indiranagar',\n",
       " '4+ BHK House For Sale  In Indiranagar',\n",
       " '4 BHK Flat For Sale  In Indiranagar ',\n",
       " '3 BHK Apartment In Moonstone 201 For Sale  In Indiranagar',\n",
       " '3 BHK Flat In Gopalan Admirality Court For Sale  In Indiranagar',\n",
       " '4+ BHK House For Sale  In Indiranagar',\n",
       " '2 BHK Flat In Lords Aparment For Sale  In Kodihalli',\n",
       " '4+ BHK Flat For Sale  In Rdx Studios']"
      ]
     },
     "execution_count": 62,
     "metadata": {},
     "output_type": "execute_result"
    }
   ],
   "source": [
    "titles = [] # empty list for store the data\n",
    "\n",
    "for i in sop.find_all('h2', class_=\"heading-6 flex items-center font-semi-bold m-0\"):\n",
    "    titles.append(i.text)\n",
    "    \n",
    "    \n",
    "titles"
   ]
  },
  {
   "cell_type": "code",
   "execution_count": 61,
   "id": "72a902d8",
   "metadata": {},
   "outputs": [
    {
     "data": {
      "text/plain": [
       "['4.75 Crores',\n",
       " '2.72 Lacs/Month',\n",
       " '3,624 sqft',\n",
       " '3.5 Crores',\n",
       " '2.01 Lacs/Month',\n",
       " '4,800 sqft',\n",
       " '7.5 Crores',\n",
       " '4.3 Lacs/Month',\n",
       " '2,800 sqft',\n",
       " '2.99 Crores',\n",
       " '1.71 Lacs/Month',\n",
       " '1,600 sqft',\n",
       " '3.1 Crores',\n",
       " '1.78 Lacs/Month',\n",
       " '4,800 sqft',\n",
       " '3.68 Crores',\n",
       " '2.11 Lacs/Month',\n",
       " '2,159 sqft',\n",
       " '15 Crores',\n",
       " '8.6 Lacs/Month',\n",
       " '12,000 sqft',\n",
       " '1.5 Crores',\n",
       " '85,971/Month',\n",
       " '844 sqft',\n",
       " '70 Lacs',\n",
       " '40,120/Month',\n",
       " '440 sqft',\n",
       " '1.5 Crores',\n",
       " '85,971/Month',\n",
       " '1,070 sqft',\n",
       " '30 Lacs',\n",
       " '17,194/Month',\n",
       " '600 sqft',\n",
       " '1.45 Crores',\n",
       " '83,106/Month',\n",
       " '1,196 sqft',\n",
       " '1.99 Crores',\n",
       " '1.14 Lacs/Month',\n",
       " '2,700 sqft',\n",
       " '9.5 Crores',\n",
       " '5.44 Lacs/Month',\n",
       " '5,000 sqft',\n",
       " '4 Crores',\n",
       " '2.29 Lacs/Month',\n",
       " '2,500 sqft',\n",
       " '4.5 Crores',\n",
       " '2.58 Lacs/Month',\n",
       " '1,200 sqft',\n",
       " '2.98 Crores',\n",
       " '1.71 Lacs/Month',\n",
       " '2,505 sqft',\n",
       " '1.57 Crores',\n",
       " '89,983/Month',\n",
       " '1,530 sqft',\n",
       " '2.25 Crores',\n",
       " '1.29 Lacs/Month',\n",
       " '1,210 sqft',\n",
       " '8 Crores',\n",
       " '4.59 Lacs/Month',\n",
       " '6,000 sqft',\n",
       " '1.8 Crores',\n",
       " '1.03 Lacs/Month',\n",
       " '950 sqft',\n",
       " '2.2 Crores',\n",
       " '1.26 Lacs/Month',\n",
       " '1,475 sqft',\n",
       " '2.5 Crores',\n",
       " '1.43 Lacs/Month',\n",
       " '1,900 sqft',\n",
       " '4.5 Crores',\n",
       " '2.58 Lacs/Month',\n",
       " '2,350 sqft',\n",
       " '1 Crore',\n",
       " '57,314/Month',\n",
       " '900 sqft',\n",
       " '4.75 Crores',\n",
       " '2.72 Lacs/Month',\n",
       " '3,624 sqft']"
      ]
     },
     "execution_count": 61,
     "metadata": {},
     "output_type": "execute_result"
    }
   ],
   "source": [
    "# price, emi and area\n",
    "prices = [] # empty list\n",
    "\n",
    "for i in sop.find_all('div',class_=\"font-semi-bold heading-6\"):\n",
    "    prices.append(i.text.replace('₹',''))\n",
    "    \n",
    "    \n",
    "prices"
   ]
  },
  {
   "cell_type": "code",
   "execution_count": 63,
   "id": "f310520d",
   "metadata": {},
   "outputs": [
    {
     "data": {
      "text/plain": [
       "['Standalone Building, Indiranagar ',\n",
       " 'Independent House,  100 Feet Rd Near New Horizon Public School',\n",
       " 'Independent House, 101, 10th Cross Road, 1st Stage',\n",
       " 'Indira Nagar II Stage, Hoysala Nagar, Near BDA Complex',\n",
       " 'Independent House, 2nd stage near  Bharat dry fruits and spices',\n",
       " ' C M H Road, 2nd Stage, 5th Main Road, near  TIME Head Office - CAT,GMAT,GRE,IPM,CLAT',\n",
       " 'Standalone Building, 2 stage near bata showroom ',\n",
       " '11-15, 17th F Cross Rd, Stage 2, Indiranagar, Bengaluru, Karnataka 560038, India',\n",
       " 'Independent House, near Shree Muthalayamma temple',\n",
       " '3rd Main Rd, Indira Nagar 1st Stage, H Colony, Indiranagar, Bengaluru, Karnataka 560038, India',\n",
       " 'standalone building,  H Colony, near Silicon City Public School',\n",
       " '6th Main/15th Cross on Double Road, one minute walk from City Nest Sports Club',\n",
       " 'Independent House, Stage 3 near SSB International School',\n",
       " 'Independent House, 224, 7th Cross, 1st stage Indiranagar',\n",
       " 'Independent House, II Stage opposite to BBMP office',\n",
       " 'Independent House, Indira Nagar , cmh road ',\n",
       " '1st Cross Road',\n",
       " 'Sai Uday Mohan Apartments\\xa0 Sai Uday Mohan Apartments, 38, Appareddy Palya Rd, New Akash Nagar, Stage 3, Indiranagar, Bengaluru, Karnataka 560038, India',\n",
       " 'Opp. 6th main,100ft. road',\n",
       " 'Independent House, 15th Cross Road',\n",
       " 'Standalone Building, Near Annamma Swamy Temple & New Star Bakery',\n",
       " 'Moonstone 201\\xa0 Kristal Moonstone, 1st Cross Rd, HAL 2nd Stage, Doopanahalli, Indiranagar, Bengaluru, Karnataka 560008, India',\n",
       " ' 6th Main Rd, Eshwara Layout, Indiranagar, Bengaluru, Karnataka 560038, India',\n",
       " 'Independent House, Binnamangala Hutting Colony.',\n",
       " '80 Feet Road, HAL 2nd Stage near Liquid Propulsion Systems Centre/ISRO',\n",
       " 'Standalone Building, Indiranagar ']"
      ]
     },
     "execution_count": 63,
     "metadata": {},
     "output_type": "execute_result"
    }
   ],
   "source": [
    "locations = [] # empty list\n",
    "\n",
    "for i in sop.find_all('div',class_=\"mt-0.5p overflow-hidden overflow-ellipsis whitespace-nowrap max-w-70 text-gray-light leading-4 po:mb-0.1p po:max-w-95\"):\n",
    "    locations.append(i.text)\n",
    "    \n",
    "    \n",
    "locations"
   ]
  },
  {
   "cell_type": "markdown",
   "id": "e1251bfa",
   "metadata": {},
   "source": [
    "## 4) Write a python program to scrape first 10 product details which include product name , price , Image URL from\n",
    "https://www.bewakoof.com/bestseller?sort=popular \n",
    "'div', class_='productCardBox', limit=10"
   ]
  },
  {
   "cell_type": "code",
   "execution_count": 18,
   "id": "d7a025bd",
   "metadata": {},
   "outputs": [
    {
     "data": {
      "text/plain": [
       "<Response [200]>"
      ]
     },
     "execution_count": 18,
     "metadata": {},
     "output_type": "execute_result"
    }
   ],
   "source": [
    "bewakoof = requests.get('https://www.bewakoof.com/bestseller?sort=popular')\n",
    "bewakoof"
   ]
  },
  {
   "cell_type": "code",
   "execution_count": 22,
   "id": "1c5d4c01",
   "metadata": {},
   "outputs": [
    {
     "data": {
      "text/plain": [
       "\"\\n\\n\\n\\n\\n\\n\\n\\n\\n\\n\\n\\n\\n\\n\\n\\n\\n\\n\\n\\n\\n\\n\\n\\n\\nBestseller\\n\\n\\n\\n\\n\\n\\n\\n\\n\\n\\n\\n\\n\\n\\n\\n\\n\\n\\n\\n\\n\\n\\n\\n\\n\\n\\n\\n\\n\\n\\n\\n\\n\\n\\n\\n\\n\\n\\n\\n\\n\\n\\n\\n\\n\\n\\n\\n\\n\\n\\n\\n\\n\\n\\n\\n\\n Offers Fanbook Download App TriBe Membership Contact Us Track Order MENWOMENMOBILE COVERS Login   Home BestsellerBestseller(498)FiltersSort BySort ByPopular Sort by PopularNewPrice : High to LowPrice : Low to High04.3Bewakoof®Unisex Black & White Melting Leaf Baseball Cap₹419₹1099₹389For TriBe Members4.4Bewakoof®Women's Black Pyjamas₹699₹1149₹639For TriBe MembersLIGHTWEIGHT & SOFTFew Left5bewakoof x looney tunesMen's Green Playing Bugs Graphic Printed Oversized T-shirt₹539₹1399₹499For TriBe Members100% COTTONOVERSIZED FITBewakoof®Women's Black Oversized Cargo Parachute Pants₹1499₹2499₹1379For TriBe MembersLIGHTWEIGHT & SOFTOVERSIZED FITBewakoof Air® 1.0Men's Black Oversized Cargo Joggers₹1049₹2199₹969For TriBe MembersLIGHTWEIGHT TERRY FABRICPLUS SIZE4.4Bewakoof®Women's Red Bonjour Paris Graphic Printed Plus Size Boyfriend T-shirt₹679₹1099₹619For TriBe Members100% COTTONOVERSIZED FIT4.4Bewakoof®Women's Black Oversized T-shirt₹699₹849₹639For TriBe Members100% COTTONBUY 3 FOR 9994.5Bewakoof®Men's Grey Brain Wash Graphic Printed T-shirt₹469₹1499₹439For TriBe Members100% COTTONOVERSIZED FIT4.6Bewakoof®Women's Red Being Cute Is My Superpower Graphic Printed Oversized T-shirt₹649₹1499₹599For TriBe Members100% COTTONWIDE LEG FIT4.5Bewakoof®Women's Blue Baggy Wide Leg Jeans₹1199₹2899₹1099For TriBe MembersCUSTOMER SERVICEContact UsTrack OrderReturn OrderCancel OrderCOMPANYAbout UsWe're HiringTerms & ConditionsPrivacy PolicyBlogCONNECT WITH US4.7M People Like this1M FollowersKEEP UP TO DATE\\xa0\\xa0\\xa0\\xa015 Days return policy*\\xa0\\xa0\\xa0\\xa0Cash on delivery*DOWNLOAD THE APP100% Secure PaymentMen's ClothingTop WearMen's New ArrivalsMen's T-ShirtsMen's Hoodies & SweatshirtsOversized T-Shirts for MenMen's Long Sleeve T-shirtsMen's Half Sleeve T-ShirtsMen's Printed T-shirtsMen's Plain T-shirtsMen's Drop Shoulder T-shirtsMen's VestsMen's Polo T-ShirtsMen's KurtasMen's Combo T-ShirtsMen's ShirtsMen's NightwearMen's Plus Size StoreBottom WearMen's PajamasMen's Boxer ShortsMen's ShortsMen's JoggerMen's Cargo JoggersMen's Track PantsMen's JeansMen's Bell Bottom JeansMen's PantsFeaturedMen's Flip FlopsMen's SlidersMarvel T-ShirtsDisney T-ShirtsAvengers T-ShirtsStar Wars T-ShirtsBatman T-ShirtsSuperman T-ShirtsJoker T-ShirtsWomen's ClothingWomen's Top WearWomen's New ArrivalsWomen's T-ShirtsWomen's Hoodies & SweatshirtsWomen's DressesWomen's 3/4 Sleeve T-ShirtsWomen's KurtisWomen's Combo T-ShirtsWomen's NightwearWomen's Plus Size StoreWomen's Bottom WearWomen's PajamasWomen's Boxer ShortsWomen's JeansWomen's Wide Leg JeansWomen's JeggingsWomen's JoggersWomen's Track PantsWomen's ShortsBAGSLaptop BagsSmall BackpacksFeaturedWomen's SlidesWomen's Flip FlopsMobile CoversBrandsAppleRealmeSamsungXiaomiOneplusVivoOppo Fanbook Offers Sitemap\\xa0\\xa0\\xa0\\xa015 Days return policy*\\xa0\\xa0\\xa0\\xa0Cash on delivery*\\n\\n\\n\\n\\n\\n\\n\\n\""
      ]
     },
     "execution_count": 22,
     "metadata": {},
     "output_type": "execute_result"
    }
   ],
   "source": [
    "bewa = BeautifulSoup(bewakoof.content)\n",
    "bewa.text"
   ]
  },
  {
   "cell_type": "code",
   "execution_count": 40,
   "id": "05702cdc",
   "metadata": {},
   "outputs": [
    {
     "data": {
      "text/plain": [
       "['Bewakoof®Unisex Black & White Melting Leaf Baseball Cap',\n",
       " \"Bewakoof®Women's Black Pyjamas\",\n",
       " \"bewakoof x looney tunesMen's Green Playing Bugs Graphic Printed Oversized T-shirt\",\n",
       " \"Bewakoof®Women's Black Oversized Cargo Parachute Pants\",\n",
       " \"Bewakoof Air® 1.0Men's Black Oversized Cargo Joggers\",\n",
       " \"Bewakoof®Women's Red Bonjour Paris Graphic Printed Plus Size Boyfriend T-shirt\",\n",
       " \"Bewakoof®Women's Black Oversized T-shirt\",\n",
       " \"Bewakoof®Men's Grey Brain Wash Graphic Printed T-shirt\",\n",
       " \"Bewakoof®Women's Red Being Cute Is My Superpower Graphic Printed Oversized T-shirt\",\n",
       " \"Bewakoof®Women's Blue Baggy Wide Leg Jeans\"]"
      ]
     },
     "execution_count": 40,
     "metadata": {},
     "output_type": "execute_result"
    }
   ],
   "source": [
    "# product name\n",
    "products = [] # empty list\n",
    "\n",
    "for i in bewa.find_all('div',class_=\"productNaming bkf-ellipsis\",  limit=10):\n",
    "    products.append(i.text)\n",
    "    \n",
    "    \n",
    "products"
   ]
  },
  {
   "cell_type": "code",
   "execution_count": 44,
   "id": "2a9be00e",
   "metadata": {},
   "outputs": [
    {
     "data": {
      "text/plain": [
       "['419', '699', '539', '1499', '1049', '679', '699', '469', '649', '1199']"
      ]
     },
     "execution_count": 44,
     "metadata": {},
     "output_type": "execute_result"
    }
   ],
   "source": [
    "# product name\n",
    "mrps = [] # empty list\n",
    "\n",
    "for i in bewa.find_all('div',class_=\"discountedPriceText\",  limit=10):\n",
    "    mrps.append(i.text.replace('₹',''))\n",
    "    \n",
    "    \n",
    "mrps"
   ]
  },
  {
   "cell_type": "code",
   "execution_count": 49,
   "id": "efc1c3ea",
   "metadata": {},
   "outputs": [
    {
     "data": {
      "text/plain": [
       "['https://images.bewakoof.com/t640/melting-leaf-baseball-cap-405263-1672908030-1.jpg',\n",
       " 'https://images.bewakoof.com/t640/women-solid-pyjamas-19-620045-1707312573-1.jpg',\n",
       " 'https://images.bewakoof.com/t640/men-s-green-playing-bugs-graphic-printed-oversized-t-shirt-589291-1698060700-1.jpg',\n",
       " 'https://images.bewakoof.com/t640/women-s-black-oversized-cargo-parachute-pants-589655-1707292800-1.jpg',\n",
       " 'https://images.bewakoof.com/t640/men-s-black-oversized-cargo-joggers-552880-1710766583-1.jpg',\n",
       " 'https://images.bewakoof.com/t640/women-s-red-bonjour-paris-graphic-printed-boyfriend-plus-size-t-shirt-625704-1699354913-1.jpg',\n",
       " 'https://images.bewakoof.com/t640/women-s-black-oversized-t-shirt-463568-1708349663-1.jpg',\n",
       " 'https://images.bewakoof.com/t640/men-s-grey-brain-wash-graphic-printed-t-shirt-591440-1708957168-1.jpg',\n",
       " 'https://images.bewakoof.com/t640/women-s-red-being-cute-is-my-superpower-graphic-printed-oversized-t-shirt-577399-1708519452-1.jpg',\n",
       " 'https://images.bewakoof.com/t640/women-s-blue-baggy-wide-leg-jeans-624271-1707215634-1.jpg']"
      ]
     },
     "execution_count": 49,
     "metadata": {},
     "output_type": "execute_result"
    }
   ],
   "source": [
    "images = []\n",
    "\n",
    "for i in bewa.find_all('img', class_=\"productImgTag\", limit=10):\n",
    "    images.append(i['src'])\n",
    "    \n",
    "images"
   ]
  },
  {
   "cell_type": "markdown",
   "id": "2e7f02d1",
   "metadata": {},
   "source": [
    "## 5) Please visit https://www.cnbc.com/world/?region=world and scrap-\n",
    "- a) headings\n",
    "b) date\n",
    "c) News line"
   ]
  },
  {
   "cell_type": "code",
   "execution_count": 4,
   "id": "2c4914c5",
   "metadata": {},
   "outputs": [
    {
     "data": {
      "text/plain": [
       "<Response [200]>"
      ]
     },
     "execution_count": 4,
     "metadata": {},
     "output_type": "execute_result"
    }
   ],
   "source": [
    "cnbc = requests.get('https://www.cnbc.com/world/?region=world')\n",
    "cnbc"
   ]
  },
  {
   "cell_type": "code",
   "execution_count": 5,
   "id": "2ba1fede",
   "metadata": {},
   "outputs": [
    {
     "data": {
      "text/plain": [
       "\"International Business, World News & Global Stock Market AnalysisSkip NavigationMarketsPre-MarketsU.S. MarketsEurope MarketsChina MarketsAsia MarketsWorld MarketsCurrenciesCryptocurrencyFutures & CommoditiesBondsFunds & ETFsBusinessEconomyFinanceHealth & ScienceMediaReal EstateEnergyClimateTransportationIndustrialsRetailWealthSportsLifeSmall BusinessInvestingPersonal FinanceFintechFinancial AdvisorsOptions ActionETF StreetBuffett ArchiveEarningsTrader TalkTechCybersecurityEnterpriseInternetMediaMobileSocial MediaCNBC Disruptor 50Tech GuidePoliticsWhite HousePolicyDefenseCongressEquity and OpportunityEurope PoliticsChina PoliticsAsia PoliticsWorld PoliticsCNBC TVLive AudioLatest VideoTop VideoCEO InterviewsEurope TVAsia TVCNBC PodcastsDigital OriginalsWatchlistTrust PortfolioAnalysisTrade AlertsMeeting VideosHomestretchJim's ColumnsEducationSubscribeSign InPro NewsPro LiveFull EpisodesStock ScreenerMarket ForecastOptions InvestingChart InvestingSubscribeSign InMenuMake ItselectALL SELECTCredit Cards Loans Banking Mortgages Insurance Credit Monitoring Personal Finance Small Business Taxes Help for Low Credit Scores Investing SELECTAll Credit CardsFind the Credit Card for YouBest Credit CardsBest Rewards Credit CardsBest Travel Credit CardsBest 0% APR Credit CardsBest Balance Transfer Credit CardsBest Cash Back Credit CardsBest Credit Card Welcome BonusesBest Credit Cards to Build CreditSELECTAll LoansFind the Best Personal Loan for YouBest Personal LoansBest Debt Consolidation LoansBest Loans to Refinance Credit Card DebtBest Loans with Fast FundingBest Small Personal LoansBest Large Personal LoansBest Personal Loans to Apply OnlineBest Student Loan RefinanceSELECTAll BankingFind the Savings Account for YouBest High Yield Savings AccountsBest Big Bank Savings AccountsBest Big Bank Checking AccountsBest No Fee Checking AccountsNo Overdraft Fee Checking AccountsBest Checking Account BonusesBest Money Market AccountsBest CDsBest Credit UnionsSELECTAll MortgagesBest MortgagesBest Mortgages for Small Down PaymentBest Mortgages for No Down PaymentBest Mortgages with No Origination FeeBest Mortgages for Average Credit ScoreAdjustable Rate MortgagesAffording a MortgageSELECTAll InsuranceBest Life InsuranceBest Homeowners InsuranceBest Renters InsuranceBest Car InsuranceTravel InsuranceSELECTAll Credit MonitoringBest Credit Monitoring ServicesBest Identity Theft ProtectionHow to Boost Your Credit ScoreCredit Repair ServicesSELECTAll Personal FinanceBest Budgeting AppsBest Expense Tracker AppsBest Money Transfer AppsBest Resale Apps and SitesBuy Now Pay Later (BNPL) AppsBest Debt ReliefSELECTAll Small BusinessBest Small Business Savings AccountsBest Small Business Checking AccountsBest Credit Cards for Small BusinessBest Small Business LoansBest Tax Software for Small BusinessSELECTAll TaxesFiling For FreeBest Tax SoftwareBest Tax Software for Small BusinessesTax RefundsTax BracketsTax TipsTax By StateTax Payment PlansSELECTAll Help for Low Credit ScoresBest Credit Cards for Bad CreditBest Personal Loans for Bad CreditBest Debt Consolidation Loans for Bad CreditPersonal Loans if You Don't Have CreditBest Credit Cards for Building CreditPersonal Loans for 580 Credit Score or LowerPersonal Loans for 670 Credit Score or LowerBest Mortgages for Bad CreditBest Hardship LoansHow to Boost Your Credit ScoreSELECTAll InvestingBest IRA AccountsBest Roth IRA AccountsBest Investing AppsBest Free Stock Trading PlatformsBest Robo-AdvisorsIndex FundsMutual FundsETFsBondsUSAINTLSearch quotes, news & videosWatchlistSIGN INMarketsBusinessInvestingTechPoliticsCNBC TVWatchlistMenuCreate your own markets bannerEURASIAASIA FXPRE-MKTBONDSUSOILEUR FXGOLDCRYPTOEuropean stocks close lower as interest rate outlook weighs on sentiment; Ocado up 6%Quick LinksQuick LinksEurope market movesU.S. TreasurysSingapore Airlines policy tweakX CEO blasts Australia's 'overreach'China's EV makersAI hype?S&P 500 rises Friday, in the green for week as Nvidia earnings overrule rate concernEuropean stocks close lower as interest rate outlook weighs on sentiment; Ocado up 6% Turkish markets are 'on the verge of a renaissance moment,' Citi saysArk Invest's Cathie Wood says lower prices and rates will 'activate coiled equities'Latest News56 Min AgoThe key for markets next week will be inflation as stocks try to maintain record highs1 Hour AgoTwo CVS retail stores in Rhode Island join new national pharmacy union1 Hour AgoHere's where BlackRock's bond guru Rick Rieder sees opportunity right now2 Hours AgoBoeing, NASA say Starliner astronaut launch will move forward despite leak2 Hours AgoStocks making the biggest moves midday: Workday, Lucid, Toast, Deckers and more2 Hours AgoJim Cramer says Nike should watch its back with Hoka running shoes doing so well2 Hours AgoModerna and this solar name are among the most overbought stocks2 Hours AgoNearly 70% of Gen Zers are actively freelancing or plan to in the future 2 Hours AgoWhy groceries are so expensive — and how consumers may start to see relief3 Hours AgoNvidia now has the best reputation of any U.S. company, according to new poll3 Hours AgoBill Gates: 'I could have learned' this lesson from Warren Buffett a lot sooner3 Hours AgoHere's how U.S. government is responding to bird flu after second human case3 Hours AgoEli Lilly's big investment — plus, what we want from 4 portfolio stock earnings3 Hours AgoThese are Wall Street's favorite travel and leisure stocks heading into summer3 Hours AgoHere's why you may be saving more in your 401(k) — and not even know it3 Hours Ago3 ways successful people work with their most frustrating colleagues4 Hours AgoCramer analyzes 4 stock movers and why he owns, believes in cryptocurrency ether4 Hours AgoBiden's fuel sale likely won't have major impact on summer pump prices4 Hours AgoHow the 'universal language' of Taylor Swift and Beyoncé is helping life at work4 Hours Ago33-year-old wrestler turned down 'massive' job opportunity to pursue Olympic gold4 Hours AgoGoogle's AI Overview catches heat for absurd, factual errors5 Hours AgoYour student loan payment could get cut in half this summer5 Hours AgoJefferies says small caps are outperforming and these stocks are a way to play it5 Hours AgoCathie Wood says lower prices and rates will 'activate coiled equities'5 Hours AgoWall Street ponders what happens to booming private credit market  in a recession5 Hours AgoUN's top court orders Israel to halt military offensive in Rafah5 Hours AgoEli Lilly boosts investment in Indiana plant to expand Mounjaro, Zepbound supply6 Hours AgoJim Cramer's top 10 things to watch in the stock market Friday6 Hours AgoA 20% down payment is 'definitely not required' to buy a house, economist says6 Hours AgoTurkish markets are 'on the verge of a renaissance moment,' Citi saysView MoreQUOTE FINDERSearchMarket MoversUSEURASIACOVID19Russia cannot swallow the West whole, Orban says; G7 finance chiefs meet with Ukraine on agenda3 hours ago•Natasha Turak,Karen Gilchrist3 hours ago•Natasha Turak,Karen GilchristHere's where BlackRock's bond guru Rick Rieder sees opportunity right nowan hour ago•Michelle Foxan hour ago•Michelle FoxUN's top court orders Israel to halt military offensive in Rafahan hour ago•Ruxandra Iordachean hour ago•Ruxandra IordacheA popular investing strategy in India is helping the country's stock market push ever higherGanesh RaoGanesh RaoNvidia CEO Jensen Huang's net worth swells from $3 billion to $90 billion in five yearsKif LeswingKif LeswingThe big boss is wearing friendship bracelets. How Taylor Swift and Beyoncé are helping life at work4 hours ago•Alex Harring,Hayden Field4 hours ago•Alex Harring,Hayden FieldX CEO Linda Yaccarino accuses Australia of 'overreach' after judge lifts ban on stabbing video5 hours ago•Ryan Browne5 hours ago•Ryan BrowneSingapore Airlines tweaks its in-flight seatbelt sign policies after fatal incidentCNBC exclusive: French President Emmanuel Macron on AI, geopolitics and the economyAlibaba bets on AI to fuel cloud growth as it expands globally to catch up with U.S. tech giantsArjun KharpalArjun KharpalOpenAI sends internal memo releasing former employees from controversial exit agreementsHayden FieldHayden FieldGoogle's AI Overview is catching heat for obvious errors, like falsely stating Obama is Muslim42 min ago•Hayden Field42 min ago•Hayden FieldChinese EV makers continue aggressive push into Europe under growing threat of tariffs6 hours ago•Arjun Kharpal6 hours ago•Arjun KharpalFormer TikTok CEO Kevin Mayer says AI hype is at an all-time fever pitch right nowMatt ClinchMatt ClinchCEOs of AI startups backed by Microsoft and Amazon are the new tech rockstarsArjun KharpalArjun KharpalThis DoubleLine bond fund is beating the market. Here's what it's buyingJesse PoundJesse PoundBritish retail sales plunge 2.3% in April, missing estimatesJenni ReidJenni ReidJPMorgan is 'positive' on China stocks and 'constructive' on real estate as Beijing props up marketsLim Hui JieLim Hui JieChina's war drills around Taiwan enter Day 2. Here's what it means for cross-strait relationsSumathi BalaSumathi BalaF1 dispute with Andretti Global draws in U.S. lawmakersMarketsMarket MOVERSS&PNASDAQDOWEURASIACOVID19Most ActiveUnusual VolumeLatest Market NewsStocks making the biggest moves midday: Workday, Lucid, Toast, Deckers and morean hour ago•Pia SinghS&P 500 rises Friday, in the green for week as Nvidia earnings overrule rate concern: Live updates5 min ago•Hakyung Kim,Brian EvansBiden's gasoline sale likely won't have a major impact on summer pump prices23 min ago•Spencer KimballJefferies says small caps are starting to outperform and these stocks are the best way to play it4 hours ago•Lisa Kailai HanCNBC TVWATCH LIVEALL VIDEOSWhy Boeing wants to buy back Spirit AeroSystemsEtsy boomed during the Pandemic. But now it's at a crossroads. Here's why.Duke Energy CEO on recent demand: 'You should think of us as a growth industry'Special ReportsTrending Now1Palm Beach housekeepers are making $150,000 a year due to massive demand from the wealthy2Ex-Nvidia recruiter’s No. 1 resume red flag: It makes you look like ‘there wasn't a whole lot of effort’3Your student loan payment could get cut in half this summer—here's what to know4Google's AI Overview is catching heat for obvious errors, like falsely stating Obama is Muslim5Why groceries are so expensive — and how consumers may start to see reliefPro News and AnalysisThe key for markets next week will be inflation as stocks try to maintain record highsSarah Minan hour agoHere's where BlackRock's bond guru Rick Rieder sees opportunity right nowMichelle Foxan hour agoModerna and this solar name are among the most overbought stocksPia Singhan hour agoJefferies says small caps are outperforming and these stocks are a way to play itLisa Kailai Han4 hours agoThese are Wall Street's favorite travel and leisure stocks heading into summerBrian Evans3 hours agoUkraineRussia cannot swallow the West whole, Orban says; G7 finance chiefs meet with Ukraine on agendaNatasha Turak3 hours agoRussia threatens direct strikes on British military targets; Kharkiv hit with 'extremely brutal' attackHolly EllyattRussia denies wanting to redraw Baltic Sea border; Moscow's nuclear drills send a warning to the WestHolly EllyattKremlin says Zelenskyy 'slipping into hysterics' wanting the West to get directly involved in the warHolly EllyattPutin says Iran's Raisi was 'true friend of Russia', Ukraine and Russia exchange tit-for-tat strikesHolly EllyattSustainable FutureIn the EV future, Thailand, the 'Detroit of Asia,' could be a key China hedge for automakersVikram BarhatFood startup Hungryroot uses AI to reduce waste, a major climate offenderDiana OlickWorld's largest olive oil maker says industry faces one of its toughest momentsSam MeredithAn olive oil shortage is fueling record prices and food insecurity fearsSam MeredithThe world's happiest countries are looking beyond net zero despite a 'greenlash'Sam MeredithCNBC TravelBhutan turns to 'Gross National Happiness 2.0' as crisis deepensMonica PitrelliThink Bhutan’s $100 daily tourism fee is pricey? It could go higher, says prime ministerMonica PitrelliNo walk-ins allowed: What to know when touring the world’s best wine regions Penny Sadler, contributor Fallout between Maldives and India is ‘absolutely’ benefiting Sri LankaMonica Pitrelli$22,000 per week? All-inclusive resorts go big to win over luxury travelersErica Lamberg, contributor Make ItNearly 70% of Gen Zers are freelancing or plan to—'I never considered applying to a job'Gili Malinsky2 hours agoThe ultimate guide to becoming a master communicator and public speakerCNBC Make It staffNvidia now has the best reputation of any U.S. company, according to new pollAshton Jackson3 hours agoBill Gates: 'I could have learned' this lesson from Warren Buffett a lot soonerTom Huddleston Jr.3 hours ago3 ways successful people work with their most frustrating colleaguesAlex Koller3 hours agoCNBC Explainswatch noweVTOLS: Are flying cars finally becoming reality?Arjun Kharpalwatch nowHow China's property bubble burstGaelle Legrandwatch nowWhat is the World Economic Forum?Gaelle Legrandwatch nowThe Quad is going beyond military exercises — and China is watchingNessa Anwarwatch nowWhy a coup in Guinea was felt around the worldTimothyna Afua DuncanSubscribe to CNBC PROSubscribe to Investing ClubLicensing & ReprintsCNBC CouncilsSupply Chain ValuesCNBC on PeacockJoin the CNBC PanelDigital ProductsNews ReleasesClosed CaptioningCorrectionsAbout CNBCInternshipsSite MapAd ChoicesCareersHelpContactNews TipsGot a confidential news tip? We want to hear from you.Get In TouchCNBC NewslettersSign up for free newsletters and get more CNBC delivered to your inboxSign Up NowGet this delivered to your inbox, and more info about our products and services.Advertise With UsPlease Contact UsPrivacy PolicyCA NoticeTerms of Service© 2024 CNBC LLC. All Rights Reserved.\\xa0A Division of NBCUniversal\\n      Data is a real-time snapshot *Data is delayed at least 15 minutes.\\n      Global Business and Financial News, Stock Quotes, and Market Data\\n      and Analysis.\\n    Market Data Terms of Use and DisclaimersData also provided by\""
      ]
     },
     "execution_count": 5,
     "metadata": {},
     "output_type": "execute_result"
    }
   ],
   "source": [
    "news = BeautifulSoup(cnbc.content)\n",
    "news.text"
   ]
  },
  {
   "cell_type": "code",
   "execution_count": 21,
   "id": "c29cbba8",
   "metadata": {},
   "outputs": [
    {
     "data": {
      "text/plain": [
       "\"Dow falls 600 points in worst day of 2024 as Nvidia's earnings fail to lift broader market\""
      ]
     },
     "execution_count": 21,
     "metadata": {},
     "output_type": "execute_result"
    }
   ],
   "source": [
    "headline = news.find('h2', class_=\"FeaturedCard-packagedCardTitle\")\n",
    "headline.text"
   ]
  },
  {
   "cell_type": "code",
   "execution_count": 22,
   "id": "f17611ae",
   "metadata": {},
   "outputs": [
    {
     "data": {
      "text/plain": [
       "'24 Min Ago'"
      ]
     },
     "execution_count": 22,
     "metadata": {},
     "output_type": "execute_result"
    }
   ],
   "source": [
    "date = news.find('time', class_=\"LatestNews-timestamp\")\n",
    "date.text"
   ]
  },
  {
   "cell_type": "code",
   "execution_count": 7,
   "id": "bac79175",
   "metadata": {},
   "outputs": [
    {
     "data": {
      "text/plain": [
       "\"56 Min AgoThe key for markets next week will be inflation as stocks try to maintain record highs1 Hour AgoTwo CVS retail stores in Rhode Island join new national pharmacy union1 Hour AgoHere's where BlackRock's bond guru Rick Rieder sees opportunity right now2 Hours AgoBoeing, NASA say Starliner astronaut launch will move forward despite leak2 Hours AgoStocks making the biggest moves midday: Workday, Lucid, Toast, Deckers and more2 Hours AgoJim Cramer says Nike should watch its back with Hoka running shoes doing so well2 Hours AgoModerna and this solar name are among the most overbought stocks2 Hours AgoNearly 70% of Gen Zers are actively freelancing or plan to in the future 2 Hours AgoWhy groceries are so expensive — and how consumers may start to see relief3 Hours AgoNvidia now has the best reputation of any U.S. company, according to new poll3 Hours AgoBill Gates: 'I could have learned' this lesson from Warren Buffett a lot sooner3 Hours AgoHere's how U.S. government is responding to bird flu after second human case3 Hours AgoEli Lilly's big investment — plus, what we want from 4 portfolio stock earnings3 Hours AgoThese are Wall Street's favorite travel and leisure stocks heading into summer3 Hours AgoHere's why you may be saving more in your 401(k) — and not even know it3 Hours Ago3 ways successful people work with their most frustrating colleagues4 Hours AgoCramer analyzes 4 stock movers and why he owns, believes in cryptocurrency ether4 Hours AgoBiden's fuel sale likely won't have major impact on summer pump prices4 Hours AgoHow the 'universal language' of Taylor Swift and Beyoncé is helping life at work4 Hours Ago33-year-old wrestler turned down 'massive' job opportunity to pursue Olympic gold4 Hours AgoGoogle's AI Overview catches heat for absurd, factual errors5 Hours AgoYour student loan payment could get cut in half this summer5 Hours AgoJefferies says small caps are outperforming and these stocks are a way to play it5 Hours AgoCathie Wood says lower prices and rates will 'activate coiled equities'5 Hours AgoWall Street ponders what happens to booming private credit market  in a recession5 Hours AgoUN's top court orders Israel to halt military offensive in Rafah5 Hours AgoEli Lilly boosts investment in Indiana plant to expand Mounjaro, Zepbound supply6 Hours AgoJim Cramer's top 10 things to watch in the stock market Friday6 Hours AgoA 20% down payment is 'definitely not required' to buy a house, economist says6 Hours AgoTurkish markets are 'on the verge of a renaissance moment,' Citi says\""
      ]
     },
     "execution_count": 7,
     "metadata": {},
     "output_type": "execute_result"
    }
   ],
   "source": [
    "news_line = news.find('ul', class_=\"LatestNews-list\")\n",
    "news_line.text"
   ]
  },
  {
   "cell_type": "markdown",
   "id": "212124bd",
   "metadata": {},
   "source": [
    "## 6) Please visit https://www.keaipublishing.com/en/journals/artificial-intelligence-in-agriculture/most-downloaded-articles/ and scrap\n",
    "- a) Paper title\n",
    "- b) date\n",
    "- c) Author"
   ]
  },
  {
   "cell_type": "code",
   "execution_count": 26,
   "id": "d30f7148",
   "metadata": {},
   "outputs": [
    {
     "data": {
      "text/plain": [
       "<Response [200]>"
      ]
     },
     "execution_count": 26,
     "metadata": {},
     "output_type": "execute_result"
    }
   ],
   "source": [
    "paper = requests.get('https://www.keaipublishing.com/en/journals/artificial-intelligence-in-agriculture/most-downloaded-articles/')\n",
    "paper"
   ]
  },
  {
   "cell_type": "code",
   "execution_count": 27,
   "id": "04d65cf9",
   "metadata": {},
   "outputs": [
    {
     "data": {
      "text/plain": [
       "\"\\n\\n\\n\\n\\nMost Downloaded Artificial Intelligence in Agriculture Articles\\n\\n\\n\\n\\n\\n\\n\\n\\n\\n\\n\\n\\n\\n\\n\\n\\n\\n\\n\\n\\n\\n\\n\\n\\n\\n\\n\\n\\n\\n\\n\\n\\n\\n\\n\\n\\n\\n\\n\\n\\n\\n\\n\\n\\n\\n\\n\\n\\n\\n\\n\\n\\n\\n\\n\\n\\n\\n\\n\\n\\n\\n\\n\\n\\n\\n\\n\\n\\n\\n\\n\\n\\n\\n\\n\\n\\n\\n\\n\\n\\n\\n\\n\\n\\n\\n\\r\\n                                            Home\\r\\n                                        \\n\\n\\n\\r\\n                                            About us\\r\\n                                        \\n\\n\\n\\r\\n                                                        KeAi\\r\\n                                                    \\n\\n\\n\\r\\n                                                            Mission and objectives\\r\\n                                                        \\n\\n\\n\\r\\n                                                            Management and governance\\r\\n                                                        \\n\\n\\n\\r\\n                                                            Publishing team\\r\\n                                                        \\n\\n\\n\\r\\n                                                            Careers\\r\\n                                                        \\n\\n\\n\\r\\n                                                            Contact\\r\\n                                                        \\n\\n\\n\\n\\n\\r\\n                                            Journals\\r\\n                                        \\n\\n\\n\\r\\n                                                        All Journals\\r\\n                                                    \\n\\n\\n\\r\\n                                                            Engineering and Technology\\r\\n                                                        \\n\\n\\n\\r\\n                                                            Fundamental Research\\r\\n                                                        \\n\\n\\n\\r\\n                                                            Health and Medical Sciences\\r\\n                                                        \\n\\n\\n\\r\\n                                                            Life Sciences\\r\\n                                                        \\n\\n\\n\\r\\n                                                            Physical Sciences\\r\\n                                                        \\n\\n\\n\\r\\n                                                            Social Sciences\\r\\n                                                        \\n\\n\\n\\n\\n\\r\\n                                            Events\\r\\n                                        \\n\\n\\n\\r\\n                                                        All events\\r\\n                                                    \\n\\n\\n\\r\\n                                                            Conferences\\r\\n                                                        \\n\\n\\n\\r\\n                                                            Webinars\\r\\n                                                        \\n\\n\\n\\n\\n\\r\\n                                            Partners\\r\\n                                        \\n\\n\\n\\r\\n                                                        Our partners\\r\\n                                                    \\n\\n\\n\\r\\n                                                            Publishing\\r\\n                                                        \\n\\n\\n\\r\\n                                                            Marketing\\r\\n                                                        \\n\\n\\n\\n\\n\\r\\n                                            For authors\\r\\n                                        \\n\\n\\n\\r\\n                                                        Publishing guide\\r\\n                                                    \\n\\n\\n\\r\\n                                                            Author benefits\\r\\n                                                        \\n\\n\\n\\r\\n                                                            Publishing process\\r\\n                                                        \\n\\n\\n\\r\\n                                                            Peer review process\\r\\n                                                        \\n\\n\\n\\r\\n                                                            Publishing ethics\\r\\n                                                        \\n\\n\\n\\r\\n                                                            Training and workshops\\r\\n                                                        \\n\\n\\n\\r\\n                                                            Author services\\r\\n                                                        \\n\\n\\n\\r\\n                                                            ScienceDirect\\r\\n                                                        \\n\\n\\n\\n\\n\\r\\n                                            For editors\\r\\n                                        \\n\\n\\n\\r\\n                                                        Editorial information\\r\\n                                                    \\n\\n\\n\\r\\n                                                            Publishing roles\\r\\n                                                        \\n\\n\\n\\r\\n                                                            Finding reviewers\\r\\n                                                        \\n\\n\\n\\r\\n                                                            Online submission system\\r\\n                                                        \\n\\n\\n\\r\\n                                                            Publishing ethics\\r\\n                                                        \\n\\n\\n\\r\\n                                                            ScienceDirect\\r\\n                                                        \\n\\n\\n\\r\\n                                                            Editorial policies\\r\\n                                                        \\n\\n\\n\\n\\n\\r\\n                                            For reviewers\\r\\n                                        \\n\\n\\n\\r\\n                                                        Reviewer information\\r\\n                                                    \\n\\n\\n\\r\\n                                                            Publishing process \\r\\n                                                        \\n\\n\\n\\r\\n                                                            Peer review process\\r\\n                                                        \\n\\n\\n\\r\\n                                                            Training and workshops\\r\\n                                                        \\n\\n\\n\\n\\n\\r\\n                                            News\\r\\n                                        \\n\\n\\n\\n\\n\\n\\n\\n\\n\\n\\n\\n\\n\\n\\r\\n                                                    Home\\r\\n                                                \\n\\n\\n\\r\\n                                                    Journals\\r\\n                                                \\n\\n\\n\\r\\n                                                    Artificial Intelligence in Agriculture\\r\\n                                                \\n\\n\\r\\n                                                Most Downloaded Articles\\r\\n                                            \\n\\n\\n\\n\\n\\n\\n\\n\\n\\n\\n\\n\\n\\n\\n\\n\\n\\n\\n\\n\\n\\nMost Downloaded Articles\\n\\n\\r\\n                                    Open access\\r\\n                                \\n\\nISSN: 2589-7217\\nCN: 10-1795/S\\np-ISSN: 2097-2113\\n\\n\\n\\n\\n\\n\\n\\r\\n                    Implementation of artificial intelligence in agriculture for optimisation of irrigation and application of pesticides and herbicides\\r\\n                \\n\\n2020\\n Tanha Talaviya |  Dhara Shah |  Nivedita Patel |  Hiteshri Yagnik |  Manan Shah\\nAgriculture plays a significant role in the economic sector. The automation in agriculture is the main concern and the emerging subject across the world. The population is increasing tremendously and...\\n\\n\\nShare article\\n\\n\\n\\n\\n\\n\\n\\n\\r\\n                    Review of agricultural IoT technology\\r\\n                \\n\\n2022\\n Jinyuan Xu |  Baoxing Gu |  Guangzhao Tian\\nAgricultural Internet of Things (IoT) has brought new changes to agricultural production. It not only increases agricultural output but can also effectively improve the quality of agricultural products,...\\n\\n\\nShare article\\n\\n\\n\\n\\n\\n\\n\\n\\n\\n\\r\\n                    A comprehensive review on automation in agriculture using artificial intelligence\\r\\n                \\n\\nJune 2019\\n Kirtan Jha |  Aalap Doshi |  Poojan Patel |  Manan Shah\\nAgriculture automation is the main concern and emerging subject for every country. The world population is increasing at a very fast rate and with increase in population the need for food increases...\\n\\n\\nShare article\\n\\n\\n\\n\\n\\n\\n\\n\\r\\n                    Automation and digitization of agriculture using artificial intelligence and internet of things\\r\\n                \\n\\n2021\\n A. Subeesh |  C.R. Mehta\\nThe growing population and effect of climate change have put a huge responsibility on the agriculture sector to increase food-grain production and productivity. In most of the countries where the expansion...\\n\\n\\nShare article\\n\\n\\n\\n\\n\\n\\n\\n\\r\\n                    Real-time hyperspectral imaging for the in-field estimation of strawberry ripeness with deep learning\\r\\n                \\n\\n2020\\n Zongmei Gao |  Yuanyuan Shao |  Guantao Xuan |  Yongxian Wang |  Yi Liu |  Xiang Han\\nStrawberry is one of the popular fruits with numerous nutrients. The ripeness of this fruits was estimated using the hyperspectral imaging (HSI) system in field and laboratory conditions in this study....\\n\\n\\nShare article\\n\\n\\n\\n\\n\\n\\n\\n\\r\\n                    A review of imaging techniques for plant disease detection\\r\\n                \\n\\n2020\\n Vijai Singh |  Namita Sharma |  Shikha Singh\\nAgriculture is the basis of every economy worldwide. Crop production is one of the major factors affecting domestic market condition in any country. Agricultural production is also a major prerequisite...\\n\\n\\nShare article\\n\\n\\n\\n\\n\\n\\n\\n\\r\\n                    Deep learning based computer vision approaches for smart agricultural applications\\r\\n                \\n\\n2022\\n V.G. Dhanya |  A. Subeesh |  N.L. Kushwaha |  Dinesh Kumar Vishwakarma |  T. Nagesh Kumar |  G. Ritika |  A.N. Singh\\nThe agriculture industry is undergoing a rapid digital transformation and is growing powerful by the pillars of cutting-edge approaches like artificial intelligence and allied technologies. At the core...\\n\\n\\nShare article\\n\\n\\n\\n\\n\\n\\n\\n\\r\\n                    Applications of electronic nose (e-nose) and electronic tongue (e-tongue) in food quality-related properties determination: A review\\r\\n                \\n\\n2020\\n Juzhong Tan |  Jie Xu\\nAn e-nose or an e-tongue is a group of gas sensors or chemical sensors that simulate human nose or human tongue. Both e-nose and e-tongue have shown great promise and utility in improving assessments...\\n\\n\\nShare article\\n\\n\\n\\n\\n\\n\\n\\n\\r\\n                    Fruit ripeness classification: A survey\\r\\n                \\n\\nMarch 2023\\n Matteo Rizzo |  Matteo Marcuzzo |  Alessandro Zangari |  Andrea Gasparetto |  Andrea Albarelli\\nFruit is a key crop in worldwide agriculture feeding millions of people. The standard supply chain of fruit products involves quality checks to guarantee freshness, taste, and, most of all, safety....\\n\\n\\nShare article\\n\\n\\n\\n\\n\\n\\n\\n\\r\\n                    How artificial intelligence uses to achieve the agriculture sustainability: Systematic review\\r\\n                \\n\\nJune 2023\\n Vilani Sachithra |  L.D.C.S. Subhashini\\nThe generation of food production that meets the rising demand for food and ecosystem security is a big challenge. With the development of Artificial Intelligence (AI) models, there is a growing need...\\n\\n\\nShare article\\n\\n\\n\\n\\n\\n\\n\\n\\r\\n                    Transfer Learning for Multi-Crop Leaf Disease Image Classification using Convolutional Neural Network VGG\\r\\n                \\n\\n2022\\n Ananda S. Paymode |  Vandana B. Malode\\nIn recent times, the use of artificial intelligence (AI) in agriculture has become the most important. The technology adoption in agriculture if creatively approached. Controlling on the diseased leaves...\\n\\n\\nShare article\\n\\n\\n\\n\\n\\n\\n\\n\\r\\n                    DeepRice: A deep learning and deep feature based classification of Rice leaf disease subtypes\\r\\n                \\n\\nMarch 2024\\n P. Isaac Ritharson |  Kumudha Raimond |  X. Anitha Mary |  Jennifer Eunice Robert |  Andrew J\\nRice stands as a crucial staple food globally, with its enduring sustainability hinging on the prompt detection of rice leaf diseases. Hence, efficiently detecting diseases when they have already occurred...\\n\\n\\nShare article\\n\\n\\n\\n\\n\\n\\n\\n\\r\\n                    Comparison of CNN-based deep learning architectures for rice diseases classification\\r\\n                \\n\\nSeptember 2023\\n Md Taimur Ahad |  Yan Li |  Bo Song |  Touhid Bhuiyan\\nAlthough convolutional neural network (CNN) paradigms have expanded to transfer learning and ensemble models from original individual CNN architectures, few studies have focused on the performance comparison...\\n\\n\\nShare article\\n\\n\\n\\n\\n\\n\\n\\n\\r\\n                    Plant disease detection using hybrid model based on convolutional autoencoder and convolutional neural network\\r\\n                \\n\\n2021\\n Punam Bedi |  Pushkar Gole\\nPlants are susceptive to various diseases in their growing phases. Early detection of diseases in plants is one of the most challenging problems in agriculture. If the diseases are not identified in...\\n\\n\\nShare article\\n\\n\\n\\n\\n\\n\\n\\n\\r\\n                    Using an improved lightweight YOLOv8 model for real-time detection of multi-stage apple fruit in complex orchard environments\\r\\n                \\n\\nMarch 2024\\n Baoling Ma |  Zhixin Hua |  Yuchen Wen |  Hongxing Deng |  Yongjie Zhao |  Liuru Pu |  Huaibo Song\\nFor the purpose of monitoring apple fruits effectively throughout the entire growth period in smart orchards. A lightweight model named YOLOv8n-ShuffleNetv2-Ghost-SE was proposed. The ShuffleNetv2 basic...\\n\\n\\nShare article\\n\\n\\n\\n\\n\\n\\n\\n\\r\\n                    Deep convolutional neural network models for weed detection in polyhouse grown bell peppers\\r\\n                \\n\\n2022\\n A. Subeesh |  S. Bhole |  K. Singh |  N.S. Chandel |  Y.A. Rajwade |  K.V.R. Rao |  S.P. Kumar |  D. Jat\\nConventional weed management approaches are inefficient and non-suitable for integration with smart agricultural machinery. Automatic identification and classification of weeds can play a vital role...\\n\\n\\nShare article\\n\\n\\n\\n\\n\\n\\n\\n\\r\\n                    A systematic review of machine learning techniques for cattle identification: Datasets, methods and future directions\\r\\n                \\n\\n2022\\n Md Ekramul Hossain |  Muhammad Ashad Kabir |  Lihong Zheng |  Dave L. Swain |  Shawn McGrath |  Jonathan Medway\\nIncreased biosecurity and food safety requirements may increase demand for efficient traceability and identification systems of livestock in the supply chain. The advanced technologies of machine learning...\\n\\n\\nShare article\\n\\n\\n\\n\\n\\n\\n\\n\\r\\n                    Examining the interplay between artificial intelligence and the agri-food industry\\r\\n                \\n\\n2022\\n Abderahman Rejeb |  Karim Rejeb |  Suhaiza Zailani |  John G. Keogh |  Andrea Appolloni\\nArtificial intelligence (AI) has advanced at an astounding rate and transformed numerous economic sectors. Nevertheless, a comprehensive understanding of how AI can improve the agri-food industry is...\\n\\n\\nShare article\\n\\n\\n\\n\\n\\n\\n\\n\\r\\n                    Machine learning in nutrient management: A review\\r\\n                \\n\\nSeptember 2023\\n Oumnia Ennaji |  Leonardus Vergütz |  Achraf El Allali\\nIn agriculture, precise fertilization and effective nutrient management are critical. Machine learning (ML) has recently been increasingly used to develop decision support tools for modern agricultural...\\n\\n\\nShare article\\n\\n\\n\\n\\n\\n\\n\\n\\r\\n                    Artificial cognition for applications in smart agriculture: A comprehensive review\\r\\n                \\n\\n2020\\n Misbah Pathan |  Nivedita Patel |  Hiteshri Yagnik |  Manan Shah\\nAgriculture contributes to 6.4% of the entire world's economic production. In at least nine countries of the world, agriculture is the dominant sector of the economy. Agriculture not only provides the...\\n\\n\\nShare article\\n\\n\\n\\n\\n\\n\\n\\n\\r\\n                    A review on computer vision systems in monitoring of poultry: A welfare perspective\\r\\n                \\n\\n2020\\n Cedric Okinda |  Innocent Nyalala |  Tchalla Korohou |  Celestine Okinda |  Jintao Wang |  Tracy Achieng |  Patrick Wamalwa |  Tai Mang |  Mingxia Shen\\nMonitoring of poultry welfare-related bio-processes and bio-responses is vital in welfare assessment and management of welfare-related factors. With the current development in information technologies,...\\n\\n\\nShare article\\n\\n\\n\\n\\n\\n\\n\\n\\r\\n                    Machine learning for weed–plant discrimination in agriculture 5.0: An in-depth review\\r\\n                \\n\\nDecember 2023\\n Filbert H. Juwono |  W.K. Wong |  Seema Verma |  Neha Shekhawat |  Basil Andy Lease |  Catur Apriono\\nAgriculture 5.0 is an emerging concept where sensors, big data, Internet-of-Things (IoT), robots, and Artificial Intelligence (AI) are used for agricultural purposes. Different from Agriculture 4.0,...\\n\\n\\nShare article\\n\\n\\n\\n\\n\\n\\n\\n\\r\\n                    Automated quality inspection of baby corn using image processing and deep learning\\r\\n                \\n\\nMarch 2024\\n Kris Wonggasem |  Pongsan Chakranon |  Papis Wongchaisuwat\\nThe food industry typically relies heavily on manual operations with high proficiency and skills. According to the quality inspection process, a baby corn with black marks or blemishes is considered...\\n\\n\\nShare article\\n\\n\\n\\n\\n\\n\\n\\n\\r\\n                    Explainable artificial intelligence and interpretable machine learning for agricultural data analysis\\r\\n                \\n\\n2022\\n Masahiro Ryo\\nArtificial intelligence and machine learning have been increasingly applied for prediction in agricultural science. However, many models are typically black boxes, meaning we cannot explain what the...\\n\\n\\nShare article\\n\\n\\n\\n\\n\\n\\n\\n\\r\\n                    LeafSpotNet: A deep learning framework for detecting leaf spot disease in jasmine plants\\r\\n                \\n\\nJune 2024\\n Shwetha V |  Arnav Bhagwat |  Vijaya Laxmi\\nLeaf blight spot disease, caused by bacteria and fungi, poses a threat to plant health, leading to leaf discoloration and diminished agricultural yield. In response, we present a MobileNetV3 based classifier...\\n\\n\\nShare article\\n\\n\\n\\n\\n\\n\\n\\n\\n\\n\\n\\n\\r\\n                    Submit your paper\\r\\n                \\n\\r\\n                    View articles\\r\\n                \\n\\n\\n\\n\\nGuide for Authors\\r\\n                    \\n\\n\\n\\nAbstracting and Indexing\\r\\n                    \\n\\n\\n\\n\\r\\n                Recent Articles\\r\\n            \\n\\r\\n                Most Downloaded Articles\\r\\n            \\n\\r\\n                Most Cited Articles\\r\\n            \\n\\r\\n                Call for Papers\\r\\n            \\n\\r\\n                News\\r\\n            \\n\\n\\n\\n\\n \\n\\n\\n\\n\\n\\nStay Informed\\nRegister your interest and receive email alerts tailored to your needs. Sign up below.\\n\\n\\n\\n\\n\\n\\n\\r\\nFirst name\\r\\n                                    *\\n\\n\\n\\n\\n\\n\\r\\nSurname\\r\\n                                    *\\n\\n\\n\\n\\n\\n\\r\\nEmail address\\r\\n                                    *\\n\\n\\n\\n\\n\\nEngineering and Technology\\nHealth and Medical Sciences\\nLife Sciences\\nMultidisciplinary\\nPhysical Sciences\\nProceedings\\nSocial Sciences\\n\\n\\n\\r\\nSubject area\\r\\n                                    *\\n\\n\\n\\n\\n\\n\\n\\n\\n\\n\\n\\n\\n\\n\\n\\n\\n\\n\\n\\n\\n\\n\\n\\r\\nKeAi may contact you to share the latest updates about products, services, promotions, and events. If you do not wish to receive such messages, please check this box.\\r\\n                            \\n\\n\\n\\n\\n\\n\\n\\n\\n\\n\\n\\n\\n \\n\\n\\n\\n\\n\\n\\n\\n\\n\\n\\n\\n\\n\\n\\n\\n\\n\\nStay up to date\\n\\n\\n\\n\\n\\n\\n\\n\\n\\n\\n\\n\\n\\n\\n\\n\\n\\n\\n\\n\\n\\n\\n\\n\\n\\n\\n\\n\\n\\n\\n\\r\\n                                                        KeAi\\r\\n                                                    \\n\\n\\n\\n\\n\\n\\r\\n                                                                    About us\\r\\n                                                                \\n\\n\\n\\r\\n                                                                        Mission and objectives\\r\\n                                                                    \\n\\n\\n\\r\\n                                                                        Management and governance\\r\\n                                                                    \\n\\n\\n\\r\\n                                                                        Publishing team\\r\\n                                                                    \\n\\n\\n\\r\\n                                                                        Careers\\r\\n                                                                    \\n\\n\\n\\r\\n                                                                        Contact\\r\\n                                                                    \\n\\n\\n\\n\\n\\n\\n\\n\\n\\n\\r\\n                                                        All Journals\\r\\n                                                    \\n\\n\\n\\n\\n\\n\\r\\n                                                                    Journals\\r\\n                                                                \\n\\n\\n\\r\\n                                                                        Engineering and Technology\\r\\n                                                                    \\n\\n\\n\\r\\n                                                                        Fundamental Research\\r\\n                                                                    \\n\\n\\n\\r\\n                                                                        Health and Medical Sciences\\r\\n                                                                    \\n\\n\\n\\r\\n                                                                        Life Sciences\\r\\n                                                                    \\n\\n\\n\\r\\n                                                                        Physical Sciences\\r\\n                                                                    \\n\\n\\n\\r\\n                                                                        Social Sciences\\r\\n                                                                    \\n\\n\\n\\n\\n\\n\\n\\n\\n\\n\\r\\n                                                        Publishing guide\\r\\n                                                    \\n\\n\\n\\n\\n\\n\\r\\n                                                                    For authors\\r\\n                                                                \\n\\n\\n\\r\\n                                                                        Author benefits\\r\\n                                                                    \\n\\n\\n\\r\\n                                                                        Publishing process\\r\\n                                                                    \\n\\n\\n\\r\\n                                                                        Peer review process\\r\\n                                                                    \\n\\n\\n\\r\\n                                                                        Publishing ethics\\r\\n                                                                    \\n\\n\\n\\r\\n                                                                        Training and workshops\\r\\n                                                                    \\n\\n\\n\\r\\n                                                                        Author services\\r\\n                                                                    \\n\\n\\n\\r\\n                                                                        ScienceDirect\\r\\n                                                                    \\n\\n\\n\\n\\n\\n\\n\\n\\n\\n\\r\\n                                                        Editorial information\\r\\n                                                    \\n\\n\\n\\n\\n\\n\\r\\n                                                                    For editors\\r\\n                                                                \\n\\n\\n\\r\\n                                                                        Publishing roles\\r\\n                                                                    \\n\\n\\n\\r\\n                                                                        Finding reviewers\\r\\n                                                                    \\n\\n\\n\\r\\n                                                                        Online submission system\\r\\n                                                                    \\n\\n\\n\\r\\n                                                                        Publishing ethics\\r\\n                                                                    \\n\\n\\n\\r\\n                                                                        ScienceDirect\\r\\n                                                                    \\n\\n\\n\\r\\n                                                                        Editorial policies\\r\\n                                                                    \\n\\n\\n\\n\\n\\n\\n\\n\\n\\n\\r\\n                                                        Reviewer information\\r\\n                                                    \\n\\n\\n\\n\\n\\n\\r\\n                                                                    For reviewers\\r\\n                                                                \\n\\n\\n\\r\\n                                                                        Publishing process \\r\\n                                                                    \\n\\n\\n\\r\\n                                                                        Peer review process\\r\\n                                                                    \\n\\n\\n\\r\\n                                                                        Training and workshops\\r\\n                                                                    \\n\\n\\n\\n\\n\\n\\n\\n\\n\\n\\r\\n                                                        All events\\r\\n                                                    \\n\\n\\n\\n\\n\\n\\r\\n                                                                    Events\\r\\n                                                                \\n\\n\\n\\r\\n                                                                        Conferences\\r\\n                                                                    \\n\\n\\n\\r\\n                                                                        Webinars\\r\\n                                                                    \\n\\n\\n\\n\\n\\n\\n\\n\\n\\n\\r\\n                                                        News\\r\\n                                                    \\n\\n\\n\\n\\n\\n\\n\\n\\n\\n\\n\\n\\n\\n\\n\\n\\n\\n\\n\\n\\n\\n\\n\\n\\n\\n\\n\\n\\n\\n\\n\\n\\n\\n\\n\\n\\n\\n\\n\\n\\n\\n\\n\\n\\n\\n\\n\\n\\n\\n\\n\\n\\n\\n\\n\\r\\n                                            Elsevier\\r\\n                                        \\n|\\n\\r\\n                                            CSPM\\r\\n                                        \\n|\\n\\r\\n                                            Privacy policy\\r\\n                                        \\n|\\n\\r\\n                                            Cookie preferences\\r\\n                                        \\n|\\n\\r\\n                                            Sitemap\\r\\n                                        \\n|\\n\\r\\n                                            Umbraco Web Design\\r\\n                                        \\n\\n\\n\\n\\n\\n\\n\\n\\n\\r\\n                                    Copyright © 2024 KeAi, its licensors, and contributors. All rights are reserved, including those for text and data mining, AI training, and similar technologies.\\r\\n                                \\n\\n\\n\\n\\n\\n\\n\\n\\n\\n\\n\\nCookie notice\\n\\n\\nWe use cookies to analyse and improve our service, to improve and personalise content, advertising and your digital experience. We also share information about your use of our site with our social media, advertising and analytics partners.\\n\\n\\nMore options\\nI’m fine with this\\n\\n\\n\\n\\nYour cookie preferences\\n\\n\\n\\n\\nWe use cookies and similar technologies on our website. Cookies are text files containing small amounts of information, which your computer or mobile device downloads when you visit a website. When you return to websites, or visit websites that use the same cookies, they recognise these cookies and therefore your browsing device.\\nWe use different types of cookies for different things, such as:\\n\\nAnalysing how you use our website\\nGiving you a better, more personalised experience\\nRecognising when you’ve sign in\\n\\nWe split our cookies into three distinct categories. You can turn Functional and Performance cookies on and off right here. Strictly necessary cookies can’t be turned off. \\n\\n\\n\\n\\n\\nStrictly necessary cookies\\n\\n\\n\\n\\r\\n                                                Always on\\r\\n                                        \\n\\n\\n\\n\\n\\n\\nThese cookies are necessary for the website to function and cannot be switched off in our systems. They are usually only set in response to actions made by you which amount to a request for services, such as setting your privacy preferences, logging in or filling in forms. You can set your browser to block or alert you about these cookies, but some parts of the site will not then work. These cookies do not store any personally identifiable information.\\n\\n\\n\\n\\n\\n\\nPerformance cookies\\n\\n\\n\\n\\r\\n                                                On\\r\\n                                        \\n\\n\\n\\n\\n\\n\\nThese cookies allow us to count visits and traffic sources so we can measure and improve the performance of our site. They help us to know which pages are the most and least popular and see how visitors move around the site.\\n\\n\\n\\n\\n\\n\\nFunctional cookies\\n\\n\\n\\n\\r\\n                                                On\\r\\n                                        \\n\\n\\n\\n\\n\\n\\nThese cookies enable the website to provide enhanced functionality and personalisation. They may be set by us or by third party providers whose services we have added to our pages. If you do not allow these cookies then some or all of these services may not function properly.\\n\\n\\n\\n\\n\\n\\nTargeting cookies\\n\\n\\n\\n\\r\\n                                                On\\r\\n                                        \\n\\n\\n\\n\\n\\n\\nThese cookies are set by a range of social media services that we have added to the site to enable you to share our content with your friends and networks. They are capable of tracking your browser across other sites and building up a profile of your interests. This may impact the content and messages you see on other websites you visit. If you do not allow these cookies you may not be able to use or see these sharing tools.\\n\\n\\n\\n\\nSave preferences\\nAccept all\\n\\n\\n\\n\\n\\n\\n\\n\\n\\n\\n\""
      ]
     },
     "execution_count": 27,
     "metadata": {},
     "output_type": "execute_result"
    }
   ],
   "source": [
    "pap = BeautifulSoup(paper.content)\n",
    "pap.text"
   ]
  },
  {
   "cell_type": "code",
   "execution_count": 28,
   "id": "578bb1a0",
   "metadata": {},
   "outputs": [
    {
     "data": {
      "text/plain": [
       "'\\n\\r\\n                    Implementation of artificial intelligence in agriculture for optimisation of irrigation and application of pesticides and herbicides\\r\\n                \\n'"
      ]
     },
     "execution_count": 28,
     "metadata": {},
     "output_type": "execute_result"
    }
   ],
   "source": [
    "paper_title = pap.find('h2', class_=\"h5 article-title\")\n",
    "paper_title.text"
   ]
  },
  {
   "cell_type": "code",
   "execution_count": 29,
   "id": "95f75501",
   "metadata": {},
   "outputs": [
    {
     "data": {
      "text/plain": [
       "'2020'"
      ]
     },
     "execution_count": 29,
     "metadata": {},
     "output_type": "execute_result"
    }
   ],
   "source": [
    "date1 = pap.find('p', class_=\"article-date\")\n",
    "date1.text"
   ]
  },
  {
   "cell_type": "code",
   "execution_count": 30,
   "id": "993ed223",
   "metadata": {},
   "outputs": [
    {
     "data": {
      "text/plain": [
       "' Tanha Talaviya |  Dhara Shah |  Nivedita Patel |  Hiteshri Yagnik |  Manan Shah'"
      ]
     },
     "execution_count": 30,
     "metadata": {},
     "output_type": "execute_result"
    }
   ],
   "source": [
    "author = pap.find('p', class_=\"article-authors\")\n",
    "author.text"
   ]
  },
  {
   "cell_type": "code",
   "execution_count": null,
   "id": "710ea0f2",
   "metadata": {},
   "outputs": [],
   "source": []
  }
 ],
 "metadata": {
  "kernelspec": {
   "display_name": "Python 3 (ipykernel)",
   "language": "python",
   "name": "python3"
  },
  "language_info": {
   "codemirror_mode": {
    "name": "ipython",
    "version": 3
   },
   "file_extension": ".py",
   "mimetype": "text/x-python",
   "name": "python",
   "nbconvert_exporter": "python",
   "pygments_lexer": "ipython3",
   "version": "3.11.5"
  }
 },
 "nbformat": 4,
 "nbformat_minor": 5
}
