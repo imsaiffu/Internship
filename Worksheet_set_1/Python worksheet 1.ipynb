{
 "cells": [
  {
   "cell_type": "markdown",
   "id": "7a18707f",
   "metadata": {},
   "source": [
    "### Q1 to Q8 have only one correct answer. Choose the correct option to answer your question.\n",
    "1.\tWhich of the following operators is used to calculate remainder in a division?\n",
    "##### C) %\t\n",
    "2.\tIn python 2//3 is equal to?\n",
    "##### B) 0\n",
    "3.\tIn python, 6<<2 is equal to?\n",
    "#####  C) 24\t \n",
    "4.\tIn python, 6&2 will give which of the following as output?\n",
    "##### A)2\t\n",
    "5.\tIn python, 6|2 will give which of the following as output?\n",
    "##### D) 6\n",
    "6.\tWhat does the finally keyword denotes in python?\n",
    "##### C) the finally block will be executed no matter if the try block raises an error or not.\n",
    "7.\tWhat does raise keyword is used for in python?\n",
    "##### A) It is used to raise an exception.\t\n",
    "8.\tWhich of the following is a common use case of yield keyword in python?\t\n",
    "###### C) in defining a generator\n"
   ]
  },
  {
   "cell_type": "markdown",
   "id": "8f05f4ef",
   "metadata": {},
   "source": [
    "### Q9 and Q10 have multiple correct answers. Choose all the correct options to answer your question.\n",
    "9.\tWhich of the following are the valid variable names?\n",
    "##### A)\t_abc\t\n",
    "##### C) abc2\t\n",
    "10.\tWhich of the following are the keywords in python?\n",
    "##### A)\tyield\tB) raise\n"
   ]
  },
  {
   "cell_type": "markdown",
   "id": "b80db6b3",
   "metadata": {},
   "source": [
    "### Q11 to Q15 are programming questions. Answer them in Jupyter Notebook.\n",
    "\n",
    "#### 11.\tWrite a python program to find the factorial of a number."
   ]
  },
  {
   "cell_type": "code",
   "execution_count": 4,
   "id": "29278499",
   "metadata": {},
   "outputs": [
    {
     "name": "stdout",
     "output_type": "stream",
     "text": [
      "Enter a number: 123\n",
      "Factorial of 123 is 12146304367025329675766243241881295855454217088483382315328918161829235892362167668831156960612640202170735835221294047782591091570411651472186029519906261646730733907419814952960000000000000000000000000000\n"
     ]
    }
   ],
   "source": [
    "def factorial(n):\n",
    "    if n == 0:\n",
    "        return 1\n",
    "    else:\n",
    "        result = 1\n",
    "        for i in range(1, n + 1):\n",
    "            result *= i\n",
    "        return result\n",
    "\n",
    "number = int(input(\"Enter a number: \"))\n",
    "if number < 0:\n",
    "    print(\"Factorial is not defined for negative numbers.\")\n",
    "else:\n",
    "    print(\"Factorial of\", number, \"is\", factorial(number))\n"
   ]
  },
  {
   "cell_type": "code",
   "execution_count": 6,
   "id": "1431f2c7",
   "metadata": {},
   "outputs": [
    {
     "name": "stdout",
     "output_type": "stream",
     "text": [
      "Enter a number: 3\n",
      "3 is a prime number.\n"
     ]
    }
   ],
   "source": [
    "## 12.\tWrite a python program to find whether a number is prime or composite.\n",
    " \n",
    "def is_prime(num):\n",
    "    if num <= 1:\n",
    "        return False\n",
    "    for i in range(2, int(num**0.5) + 1):\n",
    "        if num % i == 0:\n",
    "            return False\n",
    "    return True\n",
    "\n",
    "number = int(input(\"Enter a number: \"))\n",
    "\n",
    "if is_prime(number):\n",
    "    print(number, \"is a prime number.\")\n",
    "else:\n",
    "    print(number, \"is a composite number.\")\n"
   ]
  },
  {
   "cell_type": "code",
   "execution_count": 10,
   "id": "c906bb9a",
   "metadata": {},
   "outputs": [
    {
     "name": "stdout",
     "output_type": "stream",
     "text": [
      "Enter a string: madam\n",
      "The string is a palindrome.\n"
     ]
    }
   ],
   "source": [
    "## 13.\tWrite a python program to check whether a given string is palindrome or not.\n",
    "\n",
    "def is_palindrome(s):\n",
    "   \n",
    "    s = s.replace(\" \", \"\").lower()\n",
    "    return s == s[::-1]\n",
    "\n",
    "input_string = input(\"Enter a string: \")\n",
    "\n",
    "if is_palindrome(input_string):\n",
    "    print(\"The string is a palindrome.\")\n",
    "else:\n",
    "    print(\"The string is not a palindrome.\")\n"
   ]
  },
  {
   "cell_type": "code",
   "execution_count": 11,
   "id": "902b32ac",
   "metadata": {},
   "outputs": [
    {
     "name": "stdout",
     "output_type": "stream",
     "text": [
      "Enter the length of the first side: 23\n",
      "Enter the length of the second side: 25\n",
      "The length of the third side is: 33.97057550292606\n"
     ]
    }
   ],
   "source": [
    "## 14.\tWrite a Python program to get the third side of right-angled triangle from two given sides.\n",
    "\n",
    "def find_third_side(side1, side2):\n",
    "    third_side = (side1**2 + side2**2)**0.5\n",
    "    return third_side\n",
    "\n",
    "# Take input for the two sides\n",
    "side1 = float(input(\"Enter the length of the first side: \"))\n",
    "side2 = float(input(\"Enter the length of the second side: \"))\n",
    "\n",
    "# Check if the input sides form a right-angled triangle\n",
    "if side1 > 0 and side2 > 0:\n",
    "    third_side = find_third_side(side1, side2)\n",
    "    print(f\"The length of the third side is: {third_side}\")\n",
    "else:\n",
    "    print(\"Invalid input. Lengths of sides must be positive.\")\n"
   ]
  },
  {
   "cell_type": "code",
   "execution_count": 14,
   "id": "7a322d66",
   "metadata": {},
   "outputs": [
    {
     "name": "stdout",
     "output_type": "stream",
     "text": [
      "Enter a string: apple is good for health, apple in red color\n",
      "Character 'a' appears 3 time(s) in the string.\n",
      "Character 'p' appears 4 time(s) in the string.\n",
      "Character 'l' appears 4 time(s) in the string.\n",
      "Character 'e' appears 4 time(s) in the string.\n",
      "Character ' ' appears 8 time(s) in the string.\n",
      "Character 'i' appears 2 time(s) in the string.\n",
      "Character 's' appears 1 time(s) in the string.\n",
      "Character 'g' appears 1 time(s) in the string.\n",
      "Character 'o' appears 5 time(s) in the string.\n",
      "Character 'd' appears 2 time(s) in the string.\n",
      "Character 'f' appears 1 time(s) in the string.\n",
      "Character 'r' appears 3 time(s) in the string.\n",
      "Character 'h' appears 2 time(s) in the string.\n",
      "Character 't' appears 1 time(s) in the string.\n",
      "Character ',' appears 1 time(s) in the string.\n",
      "Character 'n' appears 1 time(s) in the string.\n",
      "Character 'c' appears 1 time(s) in the string.\n"
     ]
    }
   ],
   "source": [
    "## 15.\tWrite a python program to print the frequency of each of the characters present in a given string.\n",
    "\n",
    "def count_character_frequency(input_string):\n",
    "    # Create an empty dictionary to store character frequencies\n",
    "    frequency_dict = {}\n",
    "\n",
    "    # Count frequency of each character in the string\n",
    "    for char in input_string:\n",
    "        if char in frequency_dict:\n",
    "            frequency_dict[char] += 1\n",
    "        else:\n",
    "            frequency_dict[char] = 1\n",
    "\n",
    "    # Print the character frequencies\n",
    "    for char, frequency in frequency_dict.items():\n",
    "        print(f\"Character '{char}' appears {frequency} time(s) in the string.\")\n",
    "\n",
    "# Input a string from the user\n",
    "input_string = input(\"Enter a string: \")\n",
    "\n",
    "# Call the function to count character frequencies\n",
    "count_character_frequency(input_string)\n"
   ]
  },
  {
   "cell_type": "code",
   "execution_count": null,
   "id": "450b2d13",
   "metadata": {},
   "outputs": [],
   "source": []
  }
 ],
 "metadata": {
  "kernelspec": {
   "display_name": "Python 3 (ipykernel)",
   "language": "python",
   "name": "python3"
  },
  "language_info": {
   "codemirror_mode": {
    "name": "ipython",
    "version": 3
   },
   "file_extension": ".py",
   "mimetype": "text/x-python",
   "name": "python",
   "nbconvert_exporter": "python",
   "pygments_lexer": "ipython3",
   "version": "3.11.5"
  }
 },
 "nbformat": 4,
 "nbformat_minor": 5
}
